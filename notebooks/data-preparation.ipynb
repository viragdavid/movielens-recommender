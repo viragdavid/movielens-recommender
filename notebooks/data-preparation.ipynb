{
 "cells": [
  {
   "cell_type": "markdown",
   "id": "a02ee1f4",
   "metadata": {},
   "source": [
    "# Data Celaning / Processing and Feature Engineering"
   ]
  },
  {
   "cell_type": "markdown",
   "id": "0db94b08",
   "metadata": {},
   "source": [
    "During Exploratory Data Analysis there were no missing values or duplicate items so that i will leave out.\n",
    "\n",
    "For now I'm also not gonna do outlier detection since outliers dont usually ruin the performance of the recommender system and I havent seen extreme cases but later if the model is not giving good results i might look into getting rid of users with too little and/or too much ratings."
   ]
  },
  {
   "cell_type": "code",
   "execution_count": 2,
   "id": "e8866a35",
   "metadata": {},
   "outputs": [
    {
     "name": "stdout",
     "output_type": "stream",
     "text": [
      "Requirement already satisfied: numpy in c:\\egyetem\\github-ml\\movielens-recommender\\.venv\\lib\\site-packages (2.1.3)\n",
      "Requirement already satisfied: pandas in c:\\egyetem\\github-ml\\movielens-recommender\\.venv\\lib\\site-packages (2.3.1)\n",
      "Requirement already satisfied: scikit-learn in c:\\egyetem\\github-ml\\movielens-recommender\\.venv\\lib\\site-packages (1.7.1)\n",
      "Requirement already satisfied: python-dateutil>=2.8.2 in c:\\egyetem\\github-ml\\movielens-recommender\\.venv\\lib\\site-packages (from pandas) (2.9.0.post0)\n",
      "Requirement already satisfied: pytz>=2020.1 in c:\\egyetem\\github-ml\\movielens-recommender\\.venv\\lib\\site-packages (from pandas) (2025.2)\n",
      "Requirement already satisfied: tzdata>=2022.7 in c:\\egyetem\\github-ml\\movielens-recommender\\.venv\\lib\\site-packages (from pandas) (2025.2)\n",
      "Requirement already satisfied: scipy>=1.8.0 in c:\\egyetem\\github-ml\\movielens-recommender\\.venv\\lib\\site-packages (from scikit-learn) (1.15.3)\n",
      "Requirement already satisfied: joblib>=1.2.0 in c:\\egyetem\\github-ml\\movielens-recommender\\.venv\\lib\\site-packages (from scikit-learn) (1.5.1)\n",
      "Requirement already satisfied: threadpoolctl>=3.1.0 in c:\\egyetem\\github-ml\\movielens-recommender\\.venv\\lib\\site-packages (from scikit-learn) (3.6.0)\n",
      "Requirement already satisfied: six>=1.5 in c:\\egyetem\\github-ml\\movielens-recommender\\.venv\\lib\\site-packages (from python-dateutil>=2.8.2->pandas) (1.17.0)\n",
      "Note: you may need to restart the kernel to use updated packages.\n"
     ]
    }
   ],
   "source": [
    "pip install numpy pandas scikit-learn"
   ]
  },
  {
   "cell_type": "code",
   "execution_count": 3,
   "id": "72a99e34",
   "metadata": {},
   "outputs": [],
   "source": [
    "import pandas as pd \n",
    "import numpy as np \n",
    "from sklearn.preprocessing import OneHotEncoder\n",
    "from sklearn.preprocessing import MinMaxScaler"
   ]
  },
  {
   "cell_type": "code",
   "execution_count": 4,
   "id": "32473732",
   "metadata": {},
   "outputs": [],
   "source": [
    "#Ignore warnings so it doesnt clutter\n",
    "import warnings\n",
    "warnings.filterwarnings(\"ignore\")"
   ]
  },
  {
   "cell_type": "markdown",
   "id": "ca73764b",
   "metadata": {},
   "source": [
    "## Ratings"
   ]
  },
  {
   "cell_type": "code",
   "execution_count": 5,
   "id": "b3c9f239",
   "metadata": {},
   "outputs": [
    {
     "name": "stdout",
     "output_type": "stream",
     "text": [
      "   UserID  MovieID  Rating  Timestamp\n",
      "0       1     1193       5  978300760\n",
      "1       1      661       3  978302109\n",
      "2       1      914       3  978301968\n",
      "3       1     3408       4  978300275\n",
      "4       1     2355       5  978824291\n"
     ]
    }
   ],
   "source": [
    "ratings_column_names = ['UserID', 'MovieID', 'Rating', 'Timestamp']\n",
    "\n",
    "ratings_path = '../data/ml-1m-(raw)/ratings.dat'\n",
    "ratings = pd.read_csv(ratings_path, header=None, sep='::', engine='python', names=ratings_column_names, encoding=\"latin-1\")\n",
    "\n",
    "print(ratings.head())"
   ]
  },
  {
   "cell_type": "code",
   "execution_count": 6,
   "id": "c108c987",
   "metadata": {},
   "outputs": [
    {
     "name": "stdout",
     "output_type": "stream",
     "text": [
      "   UserID  MovieID  Rating  Timestamp  Avg_Rating  Rating_Count\n",
      "0       1     1193       5  978300760    0.847681      0.503064\n",
      "1       1      661       3  978302109    0.616190      0.152903\n",
      "2       1      914       3  978301968    0.788522      0.185293\n",
      "3       1     3408       4  978300275    0.715970      0.383426\n",
      "4       1     2355       5  978824291    0.713594      0.496644\n"
     ]
    }
   ],
   "source": [
    "avg_ratings = ratings.groupby('MovieID')['Rating'].agg(['mean', 'count'])\n",
    "ratings = ratings.merge(avg_ratings, on='MovieID', how='left')\n",
    "ratings.rename(columns={'mean': 'Avg_Rating', 'count': 'Rating_Count'}, inplace=True)\n",
    "\n",
    "# Scale average ratings\n",
    "ratings['Avg_Rating'] = MinMaxScaler().fit_transform(ratings[['Avg_Rating']])\n",
    "# Scale rating count\n",
    "ratings['Rating_Count'] = MinMaxScaler().fit_transform(ratings[['Rating_Count']])\n",
    "\n",
    "print(ratings.head())"
   ]
  },
  {
   "cell_type": "code",
   "execution_count": 7,
   "id": "796f36fc",
   "metadata": {},
   "outputs": [
    {
     "name": "stdout",
     "output_type": "stream",
     "text": [
      "   UserID  MovieID  Rating  Avg_Rating  Rating_Count\n",
      "0       1     1193       5    0.847681      0.503064\n",
      "1       1      661       3    0.616190      0.152903\n",
      "2       1      914       3    0.788522      0.185293\n",
      "3       1     3408       4    0.715970      0.383426\n",
      "4       1     2355       5    0.713594      0.496644\n"
     ]
    }
   ],
   "source": [
    "# Dropping timestamps because we arent affected by time\n",
    "ratings = ratings.drop(columns=['Timestamp'])\n",
    "\n",
    "print(ratings.head())"
   ]
  },
  {
   "cell_type": "markdown",
   "id": "19d7d30d",
   "metadata": {},
   "source": [
    "## Users"
   ]
  },
  {
   "cell_type": "code",
   "execution_count": 8,
   "id": "e6549300",
   "metadata": {},
   "outputs": [
    {
     "name": "stdout",
     "output_type": "stream",
     "text": [
      "   UserID Gender  Age  Occupation Zip-code\n",
      "0       1      F    1          10    48067\n",
      "1       2      M   56          16    70072\n",
      "2       3      M   25          15    55117\n",
      "3       4      M   45           7    02460\n",
      "4       5      M   25          20    55455\n"
     ]
    }
   ],
   "source": [
    "users_column_names = [\"UserID\", \"Gender\", \"Age\", \"Occupation\", \"Zip-code\"]\n",
    "\n",
    "users_path = '../data/ml-1m-(raw)/users.dat'\n",
    "users = pd.read_csv(users_path, header=None, sep='::', engine=\"python\", names=users_column_names, encoding=\"latin-1\")\n",
    "\n",
    "print(users.head())"
   ]
  },
  {
   "cell_type": "code",
   "execution_count": 9,
   "id": "79d2f0d7",
   "metadata": {},
   "outputs": [],
   "source": [
    "# Extract first 5 digits ONLY from ZIP+4 formats (exactly 10 characters with hyphen)\n",
    "users['Zip-code'] = users['Zip-code'].where(\n",
    "    ~users['Zip-code'].str.match(r'^\\d{5}-\\d{4}$', na=False),\n",
    "    users['Zip-code'].str[:5]\n",
    ")"
   ]
  },
  {
   "cell_type": "code",
   "execution_count": 10,
   "id": "ccf653d5",
   "metadata": {},
   "outputs": [
    {
     "name": "stdout",
     "output_type": "stream",
     "text": [
      "     zip    state\n",
      "0  47236  Indiana\n",
      "1  47870  Indiana\n",
      "2  47851  Indiana\n",
      "3  47337  Indiana\n",
      "4  47435  Indiana\n"
     ]
    }
   ],
   "source": [
    "#Convert zips to states\n",
    "zips_path = '../data/zip_to_state/zip_to_state.csv'\n",
    "zip_to_state = pd.read_csv('../data/zip_to_state/zip_to_state.csv', dtype={'zip': str})\n",
    "#needs to be read in with dtype str since it assumes zip codes are numbers otherwise\n",
    "\n",
    "print(zip_to_state.head())"
   ]
  },
  {
   "cell_type": "code",
   "execution_count": 11,
   "id": "37abdc7f",
   "metadata": {},
   "outputs": [
    {
     "name": "stdout",
     "output_type": "stream",
     "text": [
      "Zip-code\n",
      "5    6025\n",
      "6      11\n",
      "7       3\n",
      "9       1\n",
      "Name: count, dtype: int64\n",
      "zip\n",
      "5    36063\n",
      "Name: count, dtype: int64\n"
     ]
    }
   ],
   "source": [
    "# Check for leading zeros or formatting differences\n",
    "print(users['Zip-code'].str.len().value_counts())\n",
    "print(zip_to_state['zip'].str.len().value_counts())"
   ]
  },
  {
   "cell_type": "code",
   "execution_count": 12,
   "id": "a5f008e2",
   "metadata": {},
   "outputs": [
    {
     "name": "stdout",
     "output_type": "stream",
     "text": [
      "   UserID Gender  Age  Occupation Zip-code    zip          state\n",
      "0       1      F    1          10    48067  48067       Michigan\n",
      "1       2      M   56          16    70072  70072      Louisiana\n",
      "2       3      M   25          15    55117  55117      Minnesota\n",
      "3       4      M   45           7    02460  02460  Massachusetts\n",
      "4       5      M   25          20    55455  55455      Minnesota\n"
     ]
    }
   ],
   "source": [
    "merged_users = users.merge(zip_to_state, left_on='Zip-code', right_on='zip', how='left')\n",
    "\n",
    "print(merged_users.head())"
   ]
  },
  {
   "cell_type": "code",
   "execution_count": 13,
   "id": "8b127d48",
   "metadata": {},
   "outputs": [
    {
     "name": "stdout",
     "output_type": "stream",
     "text": [
      "   UserID Gender  Age  Occupation          State\n",
      "0       1      F    1          10       Michigan\n",
      "1       2      M   56          16      Louisiana\n",
      "2       3      M   25          15      Minnesota\n",
      "3       4      M   45           7  Massachusetts\n",
      "4       5      M   25          20      Minnesota\n"
     ]
    }
   ],
   "source": [
    "merged_users = merged_users.rename(columns={'state': 'State'})\n",
    "\n",
    "#drop zips, not needed anymore\n",
    "\n",
    "merged_users = merged_users[['UserID', 'Gender', 'Age', 'Occupation', 'State']]\n",
    "\n",
    "print(merged_users.head())"
   ]
  },
  {
   "cell_type": "code",
   "execution_count": 14,
   "id": "af53bbd3",
   "metadata": {},
   "outputs": [
    {
     "name": "stdout",
     "output_type": "stream",
     "text": [
      "<class 'pandas.core.frame.DataFrame'>\n",
      "RangeIndex: 6279 entries, 0 to 6278\n",
      "Data columns (total 5 columns):\n",
      " #   Column      Non-Null Count  Dtype \n",
      "---  ------      --------------  ----- \n",
      " 0   UserID      6279 non-null   int64 \n",
      " 1   Gender      6279 non-null   object\n",
      " 2   Age         6279 non-null   int64 \n",
      " 3   Occupation  6279 non-null   int64 \n",
      " 4   State       6075 non-null   object\n",
      "dtypes: int64(3), object(2)\n",
      "memory usage: 245.4+ KB\n"
     ]
    }
   ],
   "source": [
    "merged_users.info()\n",
    "# I have 204 missing states but I will keep them as is some and use a model that handles it\n",
    "# Deleting these would be a waste since we have very little data the location is probably not that important"
   ]
  },
  {
   "cell_type": "code",
   "execution_count": 15,
   "id": "d9455df6",
   "metadata": {},
   "outputs": [
    {
     "name": "stdout",
     "output_type": "stream",
     "text": [
      "      UserID  Age  Gender_M  Occupation_1  Occupation_10  Occupation_11  \\\n",
      "0          1    1       0.0           0.0            1.0            0.0   \n",
      "1          2   56       1.0           0.0            0.0            0.0   \n",
      "2          3   25       1.0           0.0            0.0            0.0   \n",
      "3          4   45       1.0           0.0            0.0            0.0   \n",
      "4          5   25       1.0           0.0            0.0            0.0   \n",
      "...      ...  ...       ...           ...            ...            ...   \n",
      "6274    6036   25       0.0           0.0            0.0            0.0   \n",
      "6275    6037   45       0.0           1.0            0.0            0.0   \n",
      "6276    6038   56       0.0           1.0            0.0            0.0   \n",
      "6277    6039   45       0.0           0.0            0.0            0.0   \n",
      "6278    6040   25       1.0           0.0            0.0            0.0   \n",
      "\n",
      "      Occupation_12  Occupation_13  Occupation_14  Occupation_15  ...  \\\n",
      "0               0.0            0.0            0.0            0.0  ...   \n",
      "1               0.0            0.0            0.0            0.0  ...   \n",
      "2               0.0            0.0            0.0            1.0  ...   \n",
      "3               0.0            0.0            0.0            0.0  ...   \n",
      "4               0.0            0.0            0.0            0.0  ...   \n",
      "...             ...            ...            ...            ...  ...   \n",
      "6274            0.0            0.0            0.0            1.0  ...   \n",
      "6275            0.0            0.0            0.0            0.0  ...   \n",
      "6276            0.0            0.0            0.0            0.0  ...   \n",
      "6277            0.0            0.0            0.0            0.0  ...   \n",
      "6278            0.0            0.0            0.0            0.0  ...   \n",
      "\n",
      "      State_Tennessee  State_Texas  State_Utah  State_Vermont  State_Virginia  \\\n",
      "0                 0.0          0.0         0.0            0.0             0.0   \n",
      "1                 0.0          0.0         0.0            0.0             0.0   \n",
      "2                 0.0          0.0         0.0            0.0             0.0   \n",
      "3                 0.0          0.0         0.0            0.0             0.0   \n",
      "4                 0.0          0.0         0.0            0.0             0.0   \n",
      "...               ...          ...         ...            ...             ...   \n",
      "6274              0.0          0.0         0.0            0.0             0.0   \n",
      "6275              0.0          1.0         0.0            0.0             0.0   \n",
      "6276              0.0          0.0         0.0            0.0             0.0   \n",
      "6277              0.0          0.0         0.0            0.0             0.0   \n",
      "6278              0.0          0.0         0.0            0.0             0.0   \n",
      "\n",
      "      State_Washington  State_West Virginia  State_Wisconsin  State_Wyoming  \\\n",
      "0                  0.0                  0.0              0.0            0.0   \n",
      "1                  0.0                  0.0              0.0            0.0   \n",
      "2                  0.0                  0.0              0.0            0.0   \n",
      "3                  0.0                  0.0              0.0            0.0   \n",
      "4                  0.0                  0.0              0.0            0.0   \n",
      "...                ...                  ...              ...            ...   \n",
      "6274               0.0                  0.0              0.0            0.0   \n",
      "6275               0.0                  0.0              0.0            0.0   \n",
      "6276               0.0                  0.0              0.0            0.0   \n",
      "6277               0.0                  0.0              0.0            0.0   \n",
      "6278               0.0                  0.0              0.0            0.0   \n",
      "\n",
      "      State_nan  \n",
      "0           0.0  \n",
      "1           0.0  \n",
      "2           0.0  \n",
      "3           0.0  \n",
      "4           0.0  \n",
      "...         ...  \n",
      "6274        0.0  \n",
      "6275        0.0  \n",
      "6276        0.0  \n",
      "6277        0.0  \n",
      "6278        0.0  \n",
      "\n",
      "[6279 rows x 74 columns]\n"
     ]
    }
   ],
   "source": [
    "# One-Hot Encoding to handle states.\n",
    "\n",
    "# These are the Categorical colmns\n",
    "cat_cols = ['Gender', 'Occupation', 'State']\n",
    "cat_df = merged_users[cat_cols].astype(str)  # To string jst to be safe\n",
    "\n",
    "# Initialize and fit one-hot encoder\n",
    "encoder = OneHotEncoder(sparse_output=False, drop='first')  # drop first avoids dummy trap\n",
    "encoded_array = encoder.fit_transform(cat_df)\n",
    "\n",
    "# Get feature names\n",
    "feature_names = encoder.get_feature_names_out(input_features=cat_cols)\n",
    "\n",
    "# Create new dataframe with encoded features\n",
    "encoded_users = pd.concat([\n",
    "    merged_users[['UserID', 'Age']],\n",
    "    pd.DataFrame(encoded_array, columns=feature_names)\n",
    "], axis=1)\n",
    "\n",
    "print(encoded_users)"
   ]
  },
  {
   "cell_type": "markdown",
   "id": "e0537871",
   "metadata": {},
   "source": [
    "## Movies"
   ]
  },
  {
   "cell_type": "code",
   "execution_count": 16,
   "id": "e332b4d9",
   "metadata": {},
   "outputs": [
    {
     "name": "stdout",
     "output_type": "stream",
     "text": [
      "   MovieID                               Title                        Genres  \\\n",
      "0        1                    Toy Story (1995)   Animation|Children's|Comedy   \n",
      "1        2                      Jumanji (1995)  Adventure|Children's|Fantasy   \n",
      "2        3             Grumpier Old Men (1995)                Comedy|Romance   \n",
      "3        4            Waiting to Exhale (1995)                  Comedy|Drama   \n",
      "4        5  Father of the Bride Part II (1995)                        Comedy   \n",
      "\n",
      "   Decade  \n",
      "0    1990  \n",
      "1    1990  \n",
      "2    1990  \n",
      "3    1990  \n",
      "4    1990  \n"
     ]
    }
   ],
   "source": [
    "movies_column_names = [\"MovieID\", \"Title\", \"Genres\"]\n",
    "\n",
    "movies_path = '../data/ml-1m-(raw)/movies.dat'\n",
    "movies = pd.read_csv(movies_path, header=None, sep='::', engine=\"python\", names=movies_column_names, encoding=\"latin-1\")\n",
    "\n",
    "# Extract release year from titles (e.g., \"Toy Story (1995)\" → 1995)\n",
    "movies['Year'] = movies['Title'].str.extract(r'\\((\\d{4})\\)').astype(float)\n",
    "\n",
    "# Create decade feature (works better than year)\n",
    "movies['Decade'] = (movies['Year'] // 10 * 10).astype(int)\n",
    "\n",
    "movies = movies.drop(columns=['Year'])\n",
    "\n",
    "print(movies.head())"
   ]
  },
  {
   "cell_type": "code",
   "execution_count": 17,
   "id": "95474a6d",
   "metadata": {},
   "outputs": [
    {
     "name": "stdout",
     "output_type": "stream",
     "text": [
      "Index(['MovieID', 'Decade', 'Genre_Adventure', 'Genre_Comedy', 'Genre_Action',\n",
      "       'Genre_Romance', 'Genre_Thriller', 'Genre_Horror', 'Genre_Sci-Fi',\n",
      "       'Genre_War', 'Genre_Fantasy', 'Genre_Crime', 'Genre_Western',\n",
      "       'Genre_Drama', 'Genre_Animation', 'Genre_Musical', 'Genre_Film-Noir',\n",
      "       'Genre_Documentary', 'Genre_Mystery', 'Genre_Children's'],\n",
      "      dtype='object')\n",
      "    MovieID    Decade  Genre_Adventure  Genre_Comedy  Genre_Action  \\\n",
      "0         1  0.888889                0             1             0   \n",
      "1         2  0.888889                1             0             0   \n",
      "2         3  0.888889                0             1             0   \n",
      "3         4  0.888889                0             1             0   \n",
      "4         5  0.888889                0             1             0   \n",
      "5         6  0.888889                0             0             1   \n",
      "6         7  0.888889                0             1             0   \n",
      "7         8  0.888889                1             0             0   \n",
      "8         9  0.888889                0             0             1   \n",
      "9        10  0.888889                1             0             1   \n",
      "10       11  0.888889                0             1             0   \n",
      "11       12  0.888889                0             1             0   \n",
      "12       13  0.888889                0             0             0   \n",
      "13       14  0.888889                0             0             0   \n",
      "14       15  0.888889                1             0             1   \n",
      "15       16  0.888889                0             0             0   \n",
      "16       17  0.888889                0             0             0   \n",
      "17       18  0.888889                0             0             0   \n",
      "18       19  0.888889                0             1             0   \n",
      "19       20  0.888889                0             0             1   \n",
      "\n",
      "    Genre_Romance  Genre_Thriller  Genre_Horror  Genre_Sci-Fi  Genre_War  \\\n",
      "0               0               0             0             0          0   \n",
      "1               0               0             0             0          0   \n",
      "2               1               0             0             0          0   \n",
      "3               0               0             0             0          0   \n",
      "4               0               0             0             0          0   \n",
      "5               0               1             0             0          0   \n",
      "6               1               0             0             0          0   \n",
      "7               0               0             0             0          0   \n",
      "8               0               0             0             0          0   \n",
      "9               0               1             0             0          0   \n",
      "10              1               0             0             0          0   \n",
      "11              0               0             1             0          0   \n",
      "12              0               0             0             0          0   \n",
      "13              0               0             0             0          0   \n",
      "14              1               0             0             0          0   \n",
      "15              0               1             0             0          0   \n",
      "16              1               0             0             0          0   \n",
      "17              0               1             0             0          0   \n",
      "18              0               0             0             0          0   \n",
      "19              0               0             0             0          0   \n",
      "\n",
      "    Genre_Fantasy  Genre_Crime  Genre_Western  Genre_Drama  Genre_Animation  \\\n",
      "0               0            0              0            0                1   \n",
      "1               1            0              0            0                0   \n",
      "2               0            0              0            0                0   \n",
      "3               0            0              0            1                0   \n",
      "4               0            0              0            0                0   \n",
      "5               0            1              0            0                0   \n",
      "6               0            0              0            0                0   \n",
      "7               0            0              0            0                0   \n",
      "8               0            0              0            0                0   \n",
      "9               0            0              0            0                0   \n",
      "10              0            0              0            1                0   \n",
      "11              0            0              0            0                0   \n",
      "12              0            0              0            0                1   \n",
      "13              0            0              0            1                0   \n",
      "14              0            0              0            0                0   \n",
      "15              0            0              0            1                0   \n",
      "16              0            0              0            1                0   \n",
      "17              0            0              0            0                0   \n",
      "18              0            0              0            0                0   \n",
      "19              0            0              0            0                0   \n",
      "\n",
      "    Genre_Musical  Genre_Film-Noir  Genre_Documentary  Genre_Mystery  \\\n",
      "0               0                0                  0              0   \n",
      "1               0                0                  0              0   \n",
      "2               0                0                  0              0   \n",
      "3               0                0                  0              0   \n",
      "4               0                0                  0              0   \n",
      "5               0                0                  0              0   \n",
      "6               0                0                  0              0   \n",
      "7               0                0                  0              0   \n",
      "8               0                0                  0              0   \n",
      "9               0                0                  0              0   \n",
      "10              0                0                  0              0   \n",
      "11              0                0                  0              0   \n",
      "12              0                0                  0              0   \n",
      "13              0                0                  0              0   \n",
      "14              0                0                  0              0   \n",
      "15              0                0                  0              0   \n",
      "16              0                0                  0              0   \n",
      "17              0                0                  0              0   \n",
      "18              0                0                  0              0   \n",
      "19              0                0                  0              0   \n",
      "\n",
      "    Genre_Children's  \n",
      "0                  1  \n",
      "1                  1  \n",
      "2                  0  \n",
      "3                  0  \n",
      "4                  0  \n",
      "5                  0  \n",
      "6                  0  \n",
      "7                  1  \n",
      "8                  0  \n",
      "9                  0  \n",
      "10                 0  \n",
      "11                 0  \n",
      "12                 1  \n",
      "13                 0  \n",
      "14                 0  \n",
      "15                 0  \n",
      "16                 0  \n",
      "17                 0  \n",
      "18                 0  \n",
      "19                 0  \n"
     ]
    }
   ],
   "source": [
    "# One-Hot Ecoding to handle genres. \n",
    "# Some movies have one, some have more so this works well this way.\n",
    "\n",
    "# Get all unique genres\n",
    "all_genres = set()\n",
    "movies['Genres'].str.split('|').apply(all_genres.update)\n",
    "\n",
    "encoded_movies = movies.copy()\n",
    "\n",
    "# Create binary columns\n",
    "for genre in all_genres:\n",
    "    encoded_movies[f'Genre_{genre}'] = movies['Genres'].str.contains(genre).astype(int)\n",
    "\n",
    "# Min-max scale Decade:\n",
    "encoded_movies['Decade'] = MinMaxScaler().fit_transform(encoded_movies[['Decade']])\n",
    "\n",
    "#These columns dont matter for us\n",
    "encoded_movies = encoded_movies.drop(columns=['Genres', 'Title']) \n",
    "\n",
    "print(encoded_movies.columns)\n",
    "\n",
    "print(encoded_movies.head(20))"
   ]
  },
  {
   "cell_type": "markdown",
   "id": "a347c524",
   "metadata": {},
   "source": [
    "## Content-Based DataFrame Merging"
   ]
  },
  {
   "cell_type": "code",
   "execution_count": 18,
   "id": "3aa96edf",
   "metadata": {},
   "outputs": [
    {
     "name": "stdout",
     "output_type": "stream",
     "text": [
      "Index(['UserID', 'MovieID', 'Rating', 'Avg_Rating', 'Rating_Count', 'Decade',\n",
      "       'Genre_Adventure', 'Genre_Comedy', 'Genre_Action', 'Genre_Romance',\n",
      "       'Genre_Thriller', 'Genre_Horror', 'Genre_Sci-Fi', 'Genre_War',\n",
      "       'Genre_Fantasy', 'Genre_Crime', 'Genre_Western', 'Genre_Drama',\n",
      "       'Genre_Animation', 'Genre_Musical', 'Genre_Film-Noir',\n",
      "       'Genre_Documentary', 'Genre_Mystery', 'Genre_Children's'],\n",
      "      dtype='object')\n",
      "   UserID  MovieID  Rating  Avg_Rating  Rating_Count    Decade  \\\n",
      "0       1     1193       5    0.847681      0.503064  0.666667   \n",
      "1       1      661       3    0.616190      0.152903  0.888889   \n",
      "2       1      914       3    0.788522      0.185293  0.555556   \n",
      "3       1     3408       4    0.715970      0.383426  1.000000   \n",
      "4       1     2355       5    0.713594      0.496644  0.888889   \n",
      "5       1     1197       3    0.825928      0.676102  0.777778   \n",
      "6       1     1287       5    0.777699      0.205136  0.444444   \n",
      "7       1     2804       5    0.809726      0.394222  0.777778   \n",
      "8       1      594       4    0.711337      0.222352  0.222222   \n",
      "9       1      919       4    0.811991      0.501021  0.222222   \n",
      "\n",
      "   Genre_Adventure  Genre_Comedy  Genre_Action  Genre_Romance  ...  \\\n",
      "0                0             0             0              0  ...   \n",
      "1                0             0             0              0  ...   \n",
      "2                0             0             0              1  ...   \n",
      "3                0             0             0              0  ...   \n",
      "4                0             1             0              0  ...   \n",
      "5                1             1             1              1  ...   \n",
      "6                1             0             1              0  ...   \n",
      "7                0             1             0              0  ...   \n",
      "8                0             0             0              0  ...   \n",
      "9                1             0             0              0  ...   \n",
      "\n",
      "   Genre_Fantasy  Genre_Crime  Genre_Western  Genre_Drama  Genre_Animation  \\\n",
      "0              0            0              0            1                0   \n",
      "1              0            0              0            0                1   \n",
      "2              0            0              0            0                0   \n",
      "3              0            0              0            1                0   \n",
      "4              0            0              0            0                1   \n",
      "5              0            0              0            0                0   \n",
      "6              0            0              0            1                0   \n",
      "7              0            0              0            1                0   \n",
      "8              0            0              0            0                1   \n",
      "9              0            0              0            1                0   \n",
      "\n",
      "   Genre_Musical  Genre_Film-Noir  Genre_Documentary  Genre_Mystery  \\\n",
      "0              0                0                  0              0   \n",
      "1              1                0                  0              0   \n",
      "2              1                0                  0              0   \n",
      "3              0                0                  0              0   \n",
      "4              0                0                  0              0   \n",
      "5              0                0                  0              0   \n",
      "6              0                0                  0              0   \n",
      "7              0                0                  0              0   \n",
      "8              1                0                  0              0   \n",
      "9              1                0                  0              0   \n",
      "\n",
      "   Genre_Children's  \n",
      "0                 0  \n",
      "1                 1  \n",
      "2                 0  \n",
      "3                 0  \n",
      "4                 1  \n",
      "5                 0  \n",
      "6                 0  \n",
      "7                 0  \n",
      "8                 1  \n",
      "9                 1  \n",
      "\n",
      "[10 rows x 24 columns]\n"
     ]
    }
   ],
   "source": [
    "content_df = ratings.merge(encoded_movies, on='MovieID', how='left')\n",
    "\n",
    "print(content_df.columns)\n",
    "print(content_df.head(10))"
   ]
  },
  {
   "cell_type": "code",
   "execution_count": 19,
   "id": "2fbce464",
   "metadata": {},
   "outputs": [],
   "source": [
    "content_df.to_csv(\"../data/prepared-data/content-based-features.csv\", index=False)"
   ]
  },
  {
   "cell_type": "markdown",
   "id": "5c07ca32",
   "metadata": {},
   "source": [
    "## Hypbrid User-Based and Content-Based DataFrame Merging"
   ]
  },
  {
   "cell_type": "code",
   "execution_count": 20,
   "id": "885e68d6",
   "metadata": {},
   "outputs": [
    {
     "name": "stdout",
     "output_type": "stream",
     "text": [
      "Index(['UserID', 'MovieID', 'Rating', 'Avg_Rating', 'Rating_Count', 'Age',\n",
      "       'Gender_M', 'Occupation_1', 'Occupation_10', 'Occupation_11',\n",
      "       'Occupation_12', 'Occupation_13', 'Occupation_14', 'Occupation_15',\n",
      "       'Occupation_16', 'Occupation_17', 'Occupation_18', 'Occupation_19',\n",
      "       'Occupation_2', 'Occupation_20', 'Occupation_3', 'Occupation_4',\n",
      "       'Occupation_5', 'Occupation_6', 'Occupation_7', 'Occupation_8',\n",
      "       'Occupation_9', 'State_Alaska', 'State_Arizona', 'State_Arkansas',\n",
      "       'State_California', 'State_Colorado', 'State_Connecticut',\n",
      "       'State_Delaware', 'State_District of Columbia', 'State_Florida',\n",
      "       'State_Georgia', 'State_Hawaii', 'State_Idaho', 'State_Illinois',\n",
      "       'State_Indiana', 'State_Iowa', 'State_Kansas', 'State_Kentucky',\n",
      "       'State_Louisiana', 'State_Maine', 'State_Maryland',\n",
      "       'State_Massachusetts', 'State_Michigan', 'State_Minnesota',\n",
      "       'State_Mississippi', 'State_Missouri', 'State_Montana',\n",
      "       'State_Nebraska', 'State_Nevada', 'State_New Hampshire',\n",
      "       'State_New Jersey', 'State_New Mexico', 'State_New York',\n",
      "       'State_North Carolina', 'State_North Dakota', 'State_Ohio',\n",
      "       'State_Oklahoma', 'State_Oregon', 'State_Pennsylvania',\n",
      "       'State_Rhode Island', 'State_South Carolina', 'State_South Dakota',\n",
      "       'State_Tennessee', 'State_Texas', 'State_Utah', 'State_Vermont',\n",
      "       'State_Virginia', 'State_Washington', 'State_West Virginia',\n",
      "       'State_Wisconsin', 'State_Wyoming', 'State_nan', 'Decade',\n",
      "       'Genre_Adventure', 'Genre_Comedy', 'Genre_Action', 'Genre_Romance',\n",
      "       'Genre_Thriller', 'Genre_Horror', 'Genre_Sci-Fi', 'Genre_War',\n",
      "       'Genre_Fantasy', 'Genre_Crime', 'Genre_Western', 'Genre_Drama',\n",
      "       'Genre_Animation', 'Genre_Musical', 'Genre_Film-Noir',\n",
      "       'Genre_Documentary', 'Genre_Mystery', 'Genre_Children's'],\n",
      "      dtype='object')\n"
     ]
    }
   ],
   "source": [
    "# First merge ratings with user features\n",
    "user_ratings = ratings.merge(encoded_users, on='UserID', how='left')\n",
    "\n",
    "# Then merge with movie features\n",
    "collab_df = user_ratings.merge(encoded_movies, on='MovieID', how='left')\n",
    "\n",
    "print(collab_df.columns)\n",
    "#print(collab_df.head(10))"
   ]
  },
  {
   "cell_type": "code",
   "execution_count": 21,
   "id": "93830621",
   "metadata": {},
   "outputs": [
    {
     "name": "stdout",
     "output_type": "stream",
     "text": [
      "   UserID  MovieID  Rating  Avg_Rating  Rating_Count  Age  Gender_M  \\\n",
      "0       1     1193       5    0.847681      0.503064  0.0       0.0   \n",
      "1       1      661       3    0.616190      0.152903  0.0       0.0   \n",
      "2       1      914       3    0.788522      0.185293  0.0       0.0   \n",
      "3       1     3408       4    0.715970      0.383426  0.0       0.0   \n",
      "4       1     2355       5    0.713594      0.496644  0.0       0.0   \n",
      "5       1     1197       3    0.825928      0.676102  0.0       0.0   \n",
      "6       1     1287       5    0.777699      0.205136  0.0       0.0   \n",
      "7       1     2804       5    0.809726      0.394222  0.0       0.0   \n",
      "8       1      594       4    0.711337      0.222352  0.0       0.0   \n",
      "9       1      919       4    0.811991      0.501021  0.0       0.0   \n",
      "\n",
      "   Occupation_1  Occupation_10  Occupation_11  ...  Genre_Fantasy  \\\n",
      "0           0.0            1.0            0.0  ...              0   \n",
      "1           0.0            1.0            0.0  ...              0   \n",
      "2           0.0            1.0            0.0  ...              0   \n",
      "3           0.0            1.0            0.0  ...              0   \n",
      "4           0.0            1.0            0.0  ...              0   \n",
      "5           0.0            1.0            0.0  ...              0   \n",
      "6           0.0            1.0            0.0  ...              0   \n",
      "7           0.0            1.0            0.0  ...              0   \n",
      "8           0.0            1.0            0.0  ...              0   \n",
      "9           0.0            1.0            0.0  ...              0   \n",
      "\n",
      "   Genre_Crime  Genre_Western  Genre_Drama  Genre_Animation  Genre_Musical  \\\n",
      "0            0              0            1                0              0   \n",
      "1            0              0            0                1              1   \n",
      "2            0              0            0                0              1   \n",
      "3            0              0            1                0              0   \n",
      "4            0              0            0                1              0   \n",
      "5            0              0            0                0              0   \n",
      "6            0              0            1                0              0   \n",
      "7            0              0            1                0              0   \n",
      "8            0              0            0                1              1   \n",
      "9            0              0            1                0              1   \n",
      "\n",
      "   Genre_Film-Noir  Genre_Documentary  Genre_Mystery  Genre_Children's  \n",
      "0                0                  0              0                 0  \n",
      "1                0                  0              0                 1  \n",
      "2                0                  0              0                 0  \n",
      "3                0                  0              0                 0  \n",
      "4                0                  0              0                 1  \n",
      "5                0                  0              0                 0  \n",
      "6                0                  0              0                 0  \n",
      "7                0                  0              0                 0  \n",
      "8                0                  0              0                 1  \n",
      "9                0                  0              0                 1  \n",
      "\n",
      "[10 rows x 97 columns]\n"
     ]
    }
   ],
   "source": [
    "#Scaling the Age since that is the only numerical column (ratings also numerical but probably fine since its 1-5)\n",
    "scaler = MinMaxScaler()\n",
    "collab_df['Age'] = scaler.fit_transform(collab_df[['Age']])\n",
    "\n",
    "print(collab_df.head(10))"
   ]
  },
  {
   "cell_type": "code",
   "execution_count": 22,
   "id": "0743e1ac",
   "metadata": {},
   "outputs": [],
   "source": [
    "collab_df.to_csv(\"../data/prepared-data/user-content-based-features.csv\", index=False)"
   ]
  }
 ],
 "metadata": {
  "kernelspec": {
   "display_name": ".venv",
   "language": "python",
   "name": "python3"
  },
  "language_info": {
   "codemirror_mode": {
    "name": "ipython",
    "version": 3
   },
   "file_extension": ".py",
   "mimetype": "text/x-python",
   "name": "python",
   "nbconvert_exporter": "python",
   "pygments_lexer": "ipython3",
   "version": "3.12.4"
  }
 },
 "nbformat": 4,
 "nbformat_minor": 5
}
