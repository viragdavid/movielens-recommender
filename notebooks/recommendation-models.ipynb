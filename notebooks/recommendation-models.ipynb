{
 "cells": [
  {
   "cell_type": "markdown",
   "id": "0f016cb5",
   "metadata": {},
   "source": [
    "# Recommendation Models"
   ]
  },
  {
   "cell_type": "code",
   "execution_count": 298,
   "id": "7576f803",
   "metadata": {},
   "outputs": [],
   "source": [
    "import pandas as pd \n",
    "import numpy as np \n",
    "from sklearn.metrics.pairwise import cosine_similarity\n",
    "from sklearn.feature_extraction.text import TfidfVectorizer\n",
    "from scipy.sparse import hstack\n",
    "from scipy.sparse import csr_matrix"
   ]
  },
  {
   "cell_type": "code",
   "execution_count": 299,
   "id": "4c87d26f",
   "metadata": {},
   "outputs": [],
   "source": [
    "#Ignore warnings so it doesnt clutter\n",
    "import warnings\n",
    "warnings.filterwarnings(\"ignore\")"
   ]
  },
  {
   "cell_type": "code",
   "execution_count": 300,
   "id": "0864fde5",
   "metadata": {},
   "outputs": [
    {
     "name": "stdout",
     "output_type": "stream",
     "text": [
      "   UserID  MovieID  Rating  Avg_Rating  Rating_Count    Decade  Genre_Mystery  \\\n",
      "0       1     1193       5    0.847681      0.503064  0.666667              0   \n",
      "1       1      661       3    0.616190      0.152903  0.888889              0   \n",
      "2       1      914       3    0.788522      0.185293  0.555556              0   \n",
      "3       1     3408       4    0.715970      0.383426  1.000000              0   \n",
      "4       1     2355       5    0.713594      0.496644  0.888889              0   \n",
      "\n",
      "   Genre_Thriller  Genre_Action  Genre_Western  ...  Genre_Animation  \\\n",
      "0               0             0              0  ...                0   \n",
      "1               0             0              0  ...                1   \n",
      "2               0             0              0  ...                0   \n",
      "3               0             0              0  ...                0   \n",
      "4               0             0              0  ...                1   \n",
      "\n",
      "   Genre_Horror  Genre_Fantasy  Genre_Romance  Genre_Documentary  \\\n",
      "0             0              0              0                  0   \n",
      "1             0              0              0                  0   \n",
      "2             0              0              1                  0   \n",
      "3             0              0              0                  0   \n",
      "4             0              0              0                  0   \n",
      "\n",
      "   Genre_Film-Noir  Genre_Adventure  Genre_Comedy  Genre_Crime  Genre_Sci-Fi  \n",
      "0                0                0             0            0             0  \n",
      "1                0                0             0            0             0  \n",
      "2                0                0             0            0             0  \n",
      "3                0                0             0            0             0  \n",
      "4                0                0             1            0             0  \n",
      "\n",
      "[5 rows x 24 columns]\n"
     ]
    }
   ],
   "source": [
    "content_df_path = '../data/prepared-data/content-based-features.csv'\n",
    "content_df = pd.read_csv(content_df_path)\n",
    "\n",
    "print(content_df.head())"
   ]
  },
  {
   "cell_type": "code",
   "execution_count": 301,
   "id": "6279830f",
   "metadata": {},
   "outputs": [
    {
     "name": "stdout",
     "output_type": "stream",
     "text": [
      "Index(['UserID', 'MovieID', 'Rating', 'Avg_Rating', 'Rating_Count', 'Decade',\n",
      "       'Genre_Mystery', 'Genre_Thriller', 'Genre_Action', 'Genre_Western',\n",
      "       'Genre_War', 'Genre_Musical', 'Genre_Children's', 'Genre_Drama',\n",
      "       'Genre_Animation', 'Genre_Horror', 'Genre_Fantasy', 'Genre_Romance',\n",
      "       'Genre_Documentary', 'Genre_Film-Noir', 'Genre_Adventure',\n",
      "       'Genre_Comedy', 'Genre_Crime', 'Genre_Sci-Fi'],\n",
      "      dtype='object')\n"
     ]
    }
   ],
   "source": [
    "print(content_df.columns)"
   ]
  },
  {
   "cell_type": "markdown",
   "id": "e94bb4ca",
   "metadata": {},
   "source": [
    "## Cosine similarity-based content-based movie recommender"
   ]
  },
  {
   "cell_type": "markdown",
   "id": "ee6e9912",
   "metadata": {},
   "source": [
    "With using a movie - item matrix. I think its good. Turned out much better than the one using tf-idf."
   ]
  },
  {
   "cell_type": "code",
   "execution_count": 302,
   "id": "1266893b",
   "metadata": {},
   "outputs": [],
   "source": [
    "# Drop duplicates and keep the first row for each MovieID\n",
    "movie_features = content_df.drop_duplicates(subset='MovieID')"
   ]
  },
  {
   "cell_type": "code",
   "execution_count": 303,
   "id": "d9079126",
   "metadata": {},
   "outputs": [
    {
     "name": "stdout",
     "output_type": "stream",
     "text": [
      "   UserID  MovieID  Rating  Avg_Rating  Rating_Count    Decade  Genre_Mystery  \\\n",
      "0       1     1193       5    0.847681      0.503064  0.666667              0   \n",
      "1       1      661       3    0.616190      0.152903  0.888889              0   \n",
      "2       1      914       3    0.788522      0.185293  0.555556              0   \n",
      "3       1     3408       4    0.715970      0.383426  1.000000              0   \n",
      "4       1     2355       5    0.713594      0.496644  0.888889              0   \n",
      "\n",
      "   Genre_Thriller  Genre_Action  Genre_Western  ...  Genre_Animation  \\\n",
      "0               0             0              0  ...                0   \n",
      "1               0             0              0  ...                1   \n",
      "2               0             0              0  ...                0   \n",
      "3               0             0              0  ...                0   \n",
      "4               0             0              0  ...                1   \n",
      "\n",
      "   Genre_Horror  Genre_Fantasy  Genre_Romance  Genre_Documentary  \\\n",
      "0             0              0              0                  0   \n",
      "1             0              0              0                  0   \n",
      "2             0              0              1                  0   \n",
      "3             0              0              0                  0   \n",
      "4             0              0              0                  0   \n",
      "\n",
      "   Genre_Film-Noir  Genre_Adventure  Genre_Comedy  Genre_Crime  Genre_Sci-Fi  \n",
      "0                0                0             0            0             0  \n",
      "1                0                0             0            0             0  \n",
      "2                0                0             0            0             0  \n",
      "3                0                0             0            0             0  \n",
      "4                0                0             1            0             0  \n",
      "\n",
      "[5 rows x 24 columns]\n"
     ]
    }
   ],
   "source": [
    "print(movie_features.head())"
   ]
  },
  {
   "cell_type": "code",
   "execution_count": 304,
   "id": "52fff534",
   "metadata": {},
   "outputs": [
    {
     "name": "stdout",
     "output_type": "stream",
     "text": [
      "      MovieID  Avg_Rating  Rating_Count    Decade  Genre_Mystery  \\\n",
      "0           1    0.786712      0.605778  0.888889              0   \n",
      "1           2    0.550285      0.204260  0.888889              0   \n",
      "2           3    0.504184      0.139189  0.888889              0   \n",
      "3           4    0.432353      0.049314  0.888889              0   \n",
      "4           5    0.501689      0.086081  0.888889              0   \n",
      "...       ...         ...           ...       ...            ...   \n",
      "3701     3948    0.658933      0.251240  1.000000              0   \n",
      "3702     3949    0.778783      0.088416  1.000000              0   \n",
      "3703     3950    0.666667      0.015465  1.000000              0   \n",
      "3704     3951    0.725000      0.011380  1.000000              0   \n",
      "3705     3952    0.695232      0.112927  1.000000              0   \n",
      "\n",
      "      Genre_Thriller  Genre_Action  Genre_Western  Genre_War  Genre_Musical  \\\n",
      "0                  0             0              0          0              0   \n",
      "1                  0             0              0          0              0   \n",
      "2                  0             0              0          0              0   \n",
      "3                  0             0              0          0              0   \n",
      "4                  0             0              0          0              0   \n",
      "...              ...           ...            ...        ...            ...   \n",
      "3701               0             0              0          0              0   \n",
      "3702               0             0              0          0              0   \n",
      "3703               0             0              0          0              0   \n",
      "3704               0             0              0          0              0   \n",
      "3705               1             0              0          0              0   \n",
      "\n",
      "      ...  Genre_Animation  Genre_Horror  Genre_Fantasy  Genre_Romance  \\\n",
      "0     ...                1             0              0              0   \n",
      "1     ...                0             0              1              0   \n",
      "2     ...                0             0              0              1   \n",
      "3     ...                0             0              0              0   \n",
      "4     ...                0             0              0              0   \n",
      "...   ...              ...           ...            ...            ...   \n",
      "3701  ...                0             0              0              0   \n",
      "3702  ...                0             0              0              0   \n",
      "3703  ...                0             0              0              0   \n",
      "3704  ...                0             0              0              0   \n",
      "3705  ...                0             0              0              0   \n",
      "\n",
      "      Genre_Documentary  Genre_Film-Noir  Genre_Adventure  Genre_Comedy  \\\n",
      "0                     0                0                0             1   \n",
      "1                     0                0                1             0   \n",
      "2                     0                0                0             1   \n",
      "3                     0                0                0             1   \n",
      "4                     0                0                0             1   \n",
      "...                 ...              ...              ...           ...   \n",
      "3701                  0                0                0             1   \n",
      "3702                  0                0                0             0   \n",
      "3703                  0                0                0             0   \n",
      "3704                  0                0                0             0   \n",
      "3705                  0                0                0             0   \n",
      "\n",
      "      Genre_Crime  Genre_Sci-Fi  \n",
      "0               0             0  \n",
      "1               0             0  \n",
      "2               0             0  \n",
      "3               0             0  \n",
      "4               0             0  \n",
      "...           ...           ...  \n",
      "3701            0             0  \n",
      "3702            0             0  \n",
      "3703            0             0  \n",
      "3704            0             0  \n",
      "3705            0             0  \n",
      "\n",
      "[3706 rows x 22 columns]\n"
     ]
    }
   ],
   "source": [
    "features_to_keep = [\n",
    "    'MovieID', 'Avg_Rating', 'Rating_Count', 'Decade',\n",
    "    'Genre_Mystery', 'Genre_Thriller', 'Genre_Action', 'Genre_Western',\n",
    "    'Genre_War', 'Genre_Musical', \"Genre_Children's\", 'Genre_Drama',\n",
    "    'Genre_Animation', 'Genre_Horror', 'Genre_Fantasy', 'Genre_Romance',\n",
    "    'Genre_Documentary', 'Genre_Film-Noir', 'Genre_Adventure',\n",
    "    'Genre_Comedy', 'Genre_Crime', 'Genre_Sci-Fi'\n",
    "]\n",
    "movie_features = movie_features[features_to_keep]\n",
    "movie_features = movie_features.sort_values('MovieID', ascending=True)\n",
    "movie_features = movie_features.reset_index(drop=True) # reset index\n",
    "\n",
    "print(movie_features)"
   ]
  },
  {
   "cell_type": "code",
   "execution_count": 305,
   "id": "f38e7b8a",
   "metadata": {},
   "outputs": [],
   "source": [
    "X = movie_features.drop('MovieID', axis=1)\n",
    "\n",
    "# Compute similarity\n",
    "similarity_matrix = cosine_similarity(X)"
   ]
  },
  {
   "cell_type": "code",
   "execution_count": 306,
   "id": "eb4e3753",
   "metadata": {},
   "outputs": [
    {
     "name": "stdout",
     "output_type": "stream",
     "text": [
      "(3706, 3706)\n"
     ]
    }
   ],
   "source": [
    "print(similarity_matrix.shape)"
   ]
  },
  {
   "cell_type": "code",
   "execution_count": 307,
   "id": "a1dda705",
   "metadata": {},
   "outputs": [
    {
     "name": "stdout",
     "output_type": "stream",
     "text": [
      "[[1.         0.5281038  0.59371583 ... 0.41636992 0.42213373 0.36812398]\n",
      " [0.5281038  1.         0.3079409  ... 0.39596942 0.39923773 0.34048716]\n",
      " [0.59371583 0.3079409  1.         ... 0.44840283 0.45151611 0.38350801]\n",
      " ...\n",
      " [0.41636992 0.39596942 0.44840283 ... 1.         0.99944499 0.84324733]\n",
      " [0.42213373 0.39923773 0.45151611 ... 0.99944499 1.         0.84309625]\n",
      " [0.36812398 0.34048716 0.38350801 ... 0.84324733 0.84309625 1.        ]]\n"
     ]
    }
   ],
   "source": [
    "print(similarity_matrix)"
   ]
  },
  {
   "cell_type": "code",
   "execution_count": 308,
   "id": "51014e16",
   "metadata": {},
   "outputs": [
    {
     "name": "stdout",
     "output_type": "stream",
     "text": [
      "      MovieID                               Title  \\\n",
      "0           1                    Toy Story (1995)   \n",
      "1           2                      Jumanji (1995)   \n",
      "2           3             Grumpier Old Men (1995)   \n",
      "3           4            Waiting to Exhale (1995)   \n",
      "4           5  Father of the Bride Part II (1995)   \n",
      "...       ...                                 ...   \n",
      "3701     3948             Meet the Parents (2000)   \n",
      "3702     3949          Requiem for a Dream (2000)   \n",
      "3703     3950                    Tigerland (2000)   \n",
      "3704     3951             Two Family House (2000)   \n",
      "3705     3952               Contender, The (2000)   \n",
      "\n",
      "                            Genres  Avg_Rating  Rating_Count    Decade  \\\n",
      "0      Animation|Children's|Comedy    0.786712      0.605778  0.888889   \n",
      "1     Adventure|Children's|Fantasy    0.550285      0.204260  0.888889   \n",
      "2                   Comedy|Romance    0.504184      0.139189  0.888889   \n",
      "3                     Comedy|Drama    0.432353      0.049314  0.888889   \n",
      "4                           Comedy    0.501689      0.086081  0.888889   \n",
      "...                            ...         ...           ...       ...   \n",
      "3701                        Comedy    0.658933      0.251240  1.000000   \n",
      "3702                         Drama    0.778783      0.088416  1.000000   \n",
      "3703                         Drama    0.666667      0.015465  1.000000   \n",
      "3704                         Drama    0.725000      0.011380  1.000000   \n",
      "3705                Drama|Thriller    0.695232      0.112927  1.000000   \n",
      "\n",
      "      Genre_Mystery  Genre_Thriller  Genre_Action  Genre_Western  ...  \\\n",
      "0                 0               0             0              0  ...   \n",
      "1                 0               0             0              0  ...   \n",
      "2                 0               0             0              0  ...   \n",
      "3                 0               0             0              0  ...   \n",
      "4                 0               0             0              0  ...   \n",
      "...             ...             ...           ...            ...  ...   \n",
      "3701              0               0             0              0  ...   \n",
      "3702              0               0             0              0  ...   \n",
      "3703              0               0             0              0  ...   \n",
      "3704              0               0             0              0  ...   \n",
      "3705              0               1             0              0  ...   \n",
      "\n",
      "      Genre_Animation  Genre_Horror  Genre_Fantasy  Genre_Romance  \\\n",
      "0                   1             0              0              0   \n",
      "1                   0             0              1              0   \n",
      "2                   0             0              0              1   \n",
      "3                   0             0              0              0   \n",
      "4                   0             0              0              0   \n",
      "...               ...           ...            ...            ...   \n",
      "3701                0             0              0              0   \n",
      "3702                0             0              0              0   \n",
      "3703                0             0              0              0   \n",
      "3704                0             0              0              0   \n",
      "3705                0             0              0              0   \n",
      "\n",
      "      Genre_Documentary  Genre_Film-Noir  Genre_Adventure  Genre_Comedy  \\\n",
      "0                     0                0                0             1   \n",
      "1                     0                0                1             0   \n",
      "2                     0                0                0             1   \n",
      "3                     0                0                0             1   \n",
      "4                     0                0                0             1   \n",
      "...                 ...              ...              ...           ...   \n",
      "3701                  0                0                0             1   \n",
      "3702                  0                0                0             0   \n",
      "3703                  0                0                0             0   \n",
      "3704                  0                0                0             0   \n",
      "3705                  0                0                0             0   \n",
      "\n",
      "      Genre_Crime  Genre_Sci-Fi  \n",
      "0               0             0  \n",
      "1               0             0  \n",
      "2               0             0  \n",
      "3               0             0  \n",
      "4               0             0  \n",
      "...           ...           ...  \n",
      "3701            0             0  \n",
      "3702            0             0  \n",
      "3703            0             0  \n",
      "3704            0             0  \n",
      "3705            0             0  \n",
      "\n",
      "[3706 rows x 24 columns]\n"
     ]
    }
   ],
   "source": [
    "# Original movies dataframe for titles since i got rid of those\n",
    "movies_column_names = [\"MovieID\", \"Title\", \"Genres\"]\n",
    "\n",
    "movies_path = '../data/ml-1m-(raw)/movies.dat'\n",
    "movies_og = pd.read_csv(movies_path, header=None, sep='::', engine=\"python\", names=movies_column_names, encoding=\"latin-1\")\n",
    "\n",
    "movies_og = movies_og.merge(movie_features, on='MovieID')\n",
    "\n",
    "print(movies_og)"
   ]
  },
  {
   "cell_type": "code",
   "execution_count": 309,
   "id": "7512d094",
   "metadata": {},
   "outputs": [],
   "source": [
    "def get_title_from_id(movie_id, movies_og):\n",
    "    title = movies_og[movies_og['MovieID'] == movie_id]['Title']\n",
    "    return title.values[0] if not title.empty else None\n",
    "\n",
    "def get_random_movie(movie_features, movies_og):\n",
    "    random_row = movie_features.sample(1)\n",
    "    movie_id = random_row['MovieID'].values[0]\n",
    "    title = get_title_from_id(movie_id, movies_og)\n",
    "    return movie_id, title\n",
    "\n",
    "\n",
    "def recommend_movies(movie_id, movie_features, similarity_matrix, movies_og, top_n=5):\n",
    "    movie_idx = movie_features[movie_features['MovieID'] == movie_id].index[0]\n",
    "    similarity_scores = similarity_matrix[movie_idx]\n",
    "\n",
    "    similar_indices = np.argsort(similarity_scores)[::-1][1:top_n+1]\n",
    "    similar_movies = movie_features.iloc[similar_indices].copy()\n",
    "    similar_movies['Title'] = similar_movies['MovieID'].apply(lambda x: get_title_from_id(x, movies_og))\n",
    "\n",
    "    return similar_movies[['MovieID', 'Title', 'Avg_Rating']]\n"
   ]
  },
  {
   "cell_type": "code",
   "execution_count": 310,
   "id": "70180652",
   "metadata": {},
   "outputs": [
    {
     "name": "stdout",
     "output_type": "stream",
     "text": [
      "2313 Elephant Man, The (1980)\n",
      "      MovieID                     Title  Avg_Rating\n",
      "1096     1185       My Left Foot (1989)    0.739514\n",
      "1776     1956    Ordinary People (1980)    0.747535\n",
      "1024     1096    Sophie's Choice (1982)    0.744186\n",
      "2534     2739  Color Purple, The (1985)    0.713889\n",
      "2853     3068       Verdict, The (1982)    0.716359\n"
     ]
    }
   ],
   "source": [
    "#Chooses a random movie and recommends 5 that are similar\n",
    "\n",
    "random_id, random_name = get_random_movie(movie_features, movies_og)\n",
    "random_rec = recommend_movies(random_id, movie_features, similarity_matrix, movies_og, 5)\n",
    "\n",
    "print(random_id, random_name)\n",
    "print(random_rec)"
   ]
  },
  {
   "cell_type": "code",
   "execution_count": 311,
   "id": "649d3650",
   "metadata": {},
   "outputs": [
    {
     "data": {
      "text/plain": [
       "'\\n1320 Alien³ (1992)\\n      MovieID                       Title  Avg_Rating\\n2096     2288           Thing, The (1982)    0.696356\\n1124     1214                Alien (1979)    0.789896\\n1553     1690  Alien: Resurrection (1997)    0.489730\\n2621     2826    13th Warrior, The (1999)    0.539667\\n3455     3697           Predator 2 (1990)    0.466952\\n-----------------------------------------------------\\n2273 Rush Hour (1998)\\n      MovieID                              Title  Avg_Rating\\n2296     2490                     Payback (1999)    0.626455\\n1877     2058             Negotiator, The (1998)    0.652065\\n3043     3267                Mariachi, El (1992)    0.671843\\n159       165  Die Hard: With a Vengeance (1995)    0.640303\\n981      1047    Long Kiss Goodnight, The (1996)    0.620968\\n------------------------------------------------------------\\n177 Lord of Illusions (1995)\\n      MovieID                                              Title  Avg_Rating\\n1819     1999                           Exorcist III, The (1990)    0.437008\\n2135     2328                                    Vampires (1998)    0.462428\\n2134     2327          Tales from the Darkside: The Movie (1990)    0.462500\\n790       842  Tales from the Crypt Presents: Bordello of Blo...    0.397351\\n3594     3839                       Phantasm IV: Oblivion (1998)    0.409574\\n----------------------------------------------------------------------------\\n2716 Ghostbusters (1984)\\n      MovieID                            Title  Avg_Rating\\n1186     1278        Young Frankenstein (1974)    0.812657\\n1823     2003                  Gremlins (1984)    0.567010\\n2512     2717           Ghostbusters II (1989)    0.476549\\n3040     3264  Buffy the Vampire Slayer (1992)    0.522949\\n2660     2867              Fright Night (1985)    0.608660\\n'"
      ]
     },
     "execution_count": 311,
     "metadata": {},
     "output_type": "execute_result"
    }
   ],
   "source": [
    "# Some outputs :)\n",
    "# They are allright\n",
    "'''\n",
    "1320 Alien³ (1992)\n",
    "      MovieID                       Title  Avg_Rating\n",
    "2096     2288           Thing, The (1982)    0.696356\n",
    "1124     1214                Alien (1979)    0.789896\n",
    "1553     1690  Alien: Resurrection (1997)    0.489730\n",
    "2621     2826    13th Warrior, The (1999)    0.539667\n",
    "3455     3697           Predator 2 (1990)    0.466952\n",
    "-----------------------------------------------------\n",
    "2273 Rush Hour (1998)\n",
    "      MovieID                              Title  Avg_Rating\n",
    "2296     2490                     Payback (1999)    0.626455\n",
    "1877     2058             Negotiator, The (1998)    0.652065\n",
    "3043     3267                Mariachi, El (1992)    0.671843\n",
    "159       165  Die Hard: With a Vengeance (1995)    0.640303\n",
    "981      1047    Long Kiss Goodnight, The (1996)    0.620968\n",
    "------------------------------------------------------------\n",
    "177 Lord of Illusions (1995)\n",
    "      MovieID                                              Title  Avg_Rating\n",
    "1819     1999                           Exorcist III, The (1990)    0.437008\n",
    "2135     2328                                    Vampires (1998)    0.462428\n",
    "2134     2327          Tales from the Darkside: The Movie (1990)    0.462500\n",
    "790       842  Tales from the Crypt Presents: Bordello of Blo...    0.397351\n",
    "3594     3839                       Phantasm IV: Oblivion (1998)    0.409574\n",
    "----------------------------------------------------------------------------\n",
    "2716 Ghostbusters (1984)\n",
    "      MovieID                            Title  Avg_Rating\n",
    "1186     1278        Young Frankenstein (1974)    0.812657\n",
    "1823     2003                  Gremlins (1984)    0.567010\n",
    "2512     2717           Ghostbusters II (1989)    0.476549\n",
    "3040     3264  Buffy the Vampire Slayer (1992)    0.522949\n",
    "2660     2867              Fright Night (1985)    0.608660\n",
    "'''"
   ]
  },
  {
   "cell_type": "code",
   "execution_count": 312,
   "id": "a8fbd751",
   "metadata": {},
   "outputs": [],
   "source": [
    "# Save them to use in deployment\n",
    "movie_features.to_pickle('../app/data/movie_features.pkl')\n",
    "movies_og.to_pickle('../app/data/movies_og.pkl')\n",
    "\n",
    "#import pickle\n",
    "#with open('../app/data/similarity_matrix.pkl', 'wb') as f:\n",
    "#    pickle.dump(similarity_matrix, f)\n"
   ]
  },
  {
   "cell_type": "markdown",
   "id": "63bf7058",
   "metadata": {},
   "source": [
    "## TF-IDF (Term Frequency - Inverse Document Frequency)"
   ]
  },
  {
   "cell_type": "markdown",
   "id": "2eb477ef",
   "metadata": {},
   "source": [
    "TF-IDF (Term Frequency – Inverse Document Frequency) is a way to numerically represent text — in our case, movie titles or plot summaries — as vectors. It captures:\n",
    "\n",
    "* TF (term frequency): how often a word appears in a document (e.g., a movie title).\n",
    "\n",
    "* IDF (inverse document frequency): how unique that word is across all documents (common words get downweighted)."
   ]
  },
  {
   "cell_type": "markdown",
   "id": "ec8749ac",
   "metadata": {},
   "source": [
    "It wasnt very successful, normal movie item matrix is better in this case"
   ]
  },
  {
   "cell_type": "code",
   "execution_count": 313,
   "id": "96dba08e",
   "metadata": {},
   "outputs": [],
   "source": [
    "titles = movies_og['Title']\n",
    "\n",
    "# Initialize vectorizer\n",
    "vectorizer = TfidfVectorizer(stop_words='english', max_features=500)\n",
    "\n",
    "# Learn vocab & transform titles into TF-IDF matrix\n",
    "tfidf_matrix = vectorizer.fit_transform(titles)"
   ]
  },
  {
   "cell_type": "code",
   "execution_count": 314,
   "id": "4bb09438",
   "metadata": {},
   "outputs": [
    {
     "name": "stdout",
     "output_type": "stream",
     "text": [
      "<Compressed Sparse Row sparse matrix of dtype 'float64'\n",
      "\twith 6838 stored elements and shape (3706, 500)>\n",
      "  Coords\tValues\n",
      "  (0, 436)\t0.8599881329707616\n",
      "  (0, 70)\t0.510314031895522\n",
      "  (1, 70)\t1.0\n",
      "  (2, 70)\t0.3452435409242046\n",
      "  (2, 364)\t0.709877127714642\n",
      "  (2, 334)\t0.6139066386656256\n",
      "  (3, 70)\t0.4151252140296577\n",
      "  (3, 473)\t0.909764286327415\n",
      "  (4, 70)\t0.29030832137039253\n",
      "  (4, 200)\t0.6362228404357442\n",
      "  (4, 120)\t0.5630165241766855\n",
      "  (4, 274)\t0.44040205421294576\n",
      "  (5, 70)\t0.405263589381106\n",
      "  (5, 256)\t0.9141998813836841\n",
      "  (6, 70)\t1.0\n",
      "  (7, 70)\t0.4308321981876823\n",
      "  (7, 461)\t0.9024320567249202\n",
      "  (8, 70)\t0.47770388295406585\n",
      "  (8, 158)\t0.8785209162055324\n",
      "  (9, 70)\t1.0\n",
      "  (10, 70)\t0.49571585051526307\n",
      "  (10, 88)\t0.8684847698998119\n",
      "  (11, 70)\t0.35347878933765625\n",
      "  (11, 173)\t0.7268101439677717\n",
      "  (11, 156)\t0.5888970708994332\n",
      "  :\t:\n",
      "  (3693, 65)\t0.33633958861754976\n",
      "  (3693, 329)\t0.47591650082282183\n",
      "  (3693, 422)\t0.5389755159653536\n",
      "  (3694, 272)\t0.5910201621884316\n",
      "  (3694, 61)\t0.4462911527846371\n",
      "  (3694, 329)\t0.6719519140778749\n",
      "  (3695, 274)\t0.45088512673313313\n",
      "  (3695, 272)\t0.5207214397205232\n",
      "  (3695, 65)\t0.41839702111899246\n",
      "  (3695, 329)\t0.5920267877596295\n",
      "  (3696, 75)\t1.0\n",
      "  (3697, 75)\t1.0\n",
      "  (3698, 344)\t0.8272141691676556\n",
      "  (3698, 75)\t0.5618867486676168\n",
      "  (3699, 75)\t1.0\n",
      "  (3700, 46)\t1.0\n",
      "  (3701, 333)\t0.8639060228217949\n",
      "  (3701, 75)\t0.5036530390380153\n",
      "  (3702, 174)\t0.8536211450847437\n",
      "  (3702, 75)\t0.5208943661283073\n",
      "  (3703, 75)\t1.0\n",
      "  (3704, 272)\t0.6018448619517188\n",
      "  (3704, 198)\t0.6842589015388885\n",
      "  (3704, 75)\t0.41179183795591473\n",
      "  (3705, 75)\t1.0\n"
     ]
    }
   ],
   "source": [
    "print(tfidf_matrix)"
   ]
  },
  {
   "cell_type": "code",
   "execution_count": 315,
   "id": "11476405",
   "metadata": {},
   "outputs": [],
   "source": [
    "#Combine tf-idf with feature matrix\n",
    "\n",
    "# Drop MovieID for similarity — we'll keep it elsewhere\n",
    "numerical_features = movie_features.drop('MovieID', axis=1).values\n",
    "\n",
    "# Stack horizontally: TF-IDF (sparse) + other features (dense)\n",
    "combined_features = hstack([tfidf_matrix, csr_matrix(numerical_features)])\n",
    "similarity_matrix = cosine_similarity(combined_features)"
   ]
  },
  {
   "cell_type": "code",
   "execution_count": 316,
   "id": "60f629c8",
   "metadata": {},
   "outputs": [],
   "source": [
    "#Check so everyting is aligned hopefully\n",
    "assert similarity_matrix.shape[0] == len(movie_features)"
   ]
  },
  {
   "cell_type": "code",
   "execution_count": 317,
   "id": "c3b63a54",
   "metadata": {},
   "outputs": [],
   "source": [
    "def get_title_from_id(movie_id, movies_og):\n",
    "    title = movies_og[movies_og['MovieID'] == movie_id]['Title']\n",
    "    return title.values[0] if not title.empty else None\n",
    "\n",
    "def get_random_movie(movie_features, movies_og):\n",
    "    random_row = movie_features.sample(1)\n",
    "    movie_id = random_row['MovieID'].values[0]\n",
    "    title = get_title_from_id(movie_id, movies_og)\n",
    "    return movie_id, title\n",
    "\n",
    "\n",
    "def recommend_movies(movie_id, movie_features, similarity_matrix, movies_og, top_n=5):\n",
    "    movie_idx = movie_features[movie_features['MovieID'] == movie_id].index[0]\n",
    "    similarity_scores = similarity_matrix[movie_idx]\n",
    "\n",
    "    similar_indices = np.argsort(similarity_scores)[::-1][1:top_n+1]\n",
    "    similar_movies = movie_features.iloc[similar_indices].copy()\n",
    "    similar_movies['Title'] = similar_movies['MovieID'].apply(lambda x: get_title_from_id(x, movies_og))\n",
    "\n",
    "    return similar_movies[['MovieID', 'Title', 'Avg_Rating']]"
   ]
  },
  {
   "cell_type": "code",
   "execution_count": 318,
   "id": "9e51b7e8",
   "metadata": {},
   "outputs": [
    {
     "name": "stdout",
     "output_type": "stream",
     "text": [
      "3553 Gossip (2000)\n",
      "      MovieID                       Title  Avg_Rating\n",
      "3280     3513  Rules of Engagement (2000)    0.586905\n",
      "3705     3952       Contender, The (2000)    0.695232\n",
      "3277     3510            Frequency (2000)    0.689708\n",
      "3699     3946           Get Carter (2000)    0.315000\n",
      "3178     3409    Final Destination (2000)    0.568083\n"
     ]
    }
   ],
   "source": [
    "#Chooses a random movie and recommends 5 that are similar\n",
    "\n",
    "random_id, random_name = get_random_movie(movie_features, movies_og)\n",
    "random_rec = recommend_movies(random_id, movie_features, similarity_matrix, movies_og, 5)\n",
    "\n",
    "print(random_id, random_name)\n",
    "print(random_rec)"
   ]
  },
  {
   "cell_type": "code",
   "execution_count": 319,
   "id": "dc3514b5",
   "metadata": {},
   "outputs": [
    {
     "data": {
      "text/plain": [
       "'\\n1320 Alien³ (1992)\\n      MovieID                       Title  Avg_Rating\\n972      1037  Lawnmower Man, The (1992)    0.415041\\n2096     2288          Thing, The (1982)    0.696356\\n1124     1214               Alien (1979)    0.789896\\n3032     3256       Patriot Games (1992)    0.687500\\n805       861            Supercop (1992)    0.628205\\n-----------------------------------------------------\\n2273 Rush Hour (1998)\\n      MovieID                            Title  Avg_Rating\\n1877     2058           Negotiator, The (1998)    0.652065\\n2160     2353        Enemy of the State (1998)    0.671812\\n1623     1792            U.S. Marshalls (1998)    0.542969\\n1608     1769  Replacement Killers, The (1998)    0.534483\\n2141     2334                Siege, The (1998)    0.531088\\n------------------------------------------------------------\\n177 Lord of Illusions (1995)\\n      MovieID                                              Title  Avg_Rating\\n3593     3838              Phantasm III: Lord of the Dead (1994)    0.404762\\n182       188                               Prophecy, The (1995)    0.555263\\n146       152                              Addiction, The (1995)    0.500000\\n214       220                                Castle Freak (1995)    0.205357\\n318       328  Tales From the Crypt Presents: Demon Knight (1...    0.527778\\n----------------------------------------------------------------------------\\n2716 Ghostbusters (1984)\\n      MovieID                      Title  Avg_Rating\\n1823     2003            Gremlins (1984)    0.567010\\n1963     2144     Sixteen Candles (1984)    0.677677\\n1186     1278  Young Frankenstein (1974)    0.812657\\n3542     3785         Scary Movie (2000)    0.502855\\n3292     3525      Bachelor Party (1984)    0.534722\\n'"
      ]
     },
     "execution_count": 319,
     "metadata": {},
     "output_type": "execute_result"
    }
   ],
   "source": [
    "# Outputs with if-idf :(\n",
    "# Previour results were much much better. \n",
    "# It doesnt even find the similarly named ones as good as it did previourly.\n",
    "# The problem is probably that the titles are too short to work with. \n",
    "# If movies had a description that might work better.\n",
    "'''\n",
    "1320 Alien³ (1992)\n",
    "      MovieID                       Title  Avg_Rating\n",
    "972      1037  Lawnmower Man, The (1992)    0.415041\n",
    "2096     2288          Thing, The (1982)    0.696356\n",
    "1124     1214               Alien (1979)    0.789896\n",
    "3032     3256       Patriot Games (1992)    0.687500\n",
    "805       861            Supercop (1992)    0.628205\n",
    "-----------------------------------------------------\n",
    "2273 Rush Hour (1998)\n",
    "      MovieID                            Title  Avg_Rating\n",
    "1877     2058           Negotiator, The (1998)    0.652065\n",
    "2160     2353        Enemy of the State (1998)    0.671812\n",
    "1623     1792            U.S. Marshalls (1998)    0.542969\n",
    "1608     1769  Replacement Killers, The (1998)    0.534483\n",
    "2141     2334                Siege, The (1998)    0.531088\n",
    "------------------------------------------------------------\n",
    "177 Lord of Illusions (1995)\n",
    "      MovieID                                              Title  Avg_Rating\n",
    "3593     3838              Phantasm III: Lord of the Dead (1994)    0.404762\n",
    "182       188                               Prophecy, The (1995)    0.555263\n",
    "146       152                              Addiction, The (1995)    0.500000\n",
    "214       220                                Castle Freak (1995)    0.205357\n",
    "318       328  Tales From the Crypt Presents: Demon Knight (1...    0.527778\n",
    "----------------------------------------------------------------------------\n",
    "2716 Ghostbusters (1984)\n",
    "      MovieID                      Title  Avg_Rating\n",
    "1823     2003            Gremlins (1984)    0.567010\n",
    "1963     2144     Sixteen Candles (1984)    0.677677\n",
    "1186     1278  Young Frankenstein (1974)    0.812657\n",
    "3542     3785         Scary Movie (2000)    0.502855\n",
    "3292     3525      Bachelor Party (1984)    0.534722\n",
    "'''"
   ]
  },
  {
   "cell_type": "markdown",
   "id": "b8e8257b",
   "metadata": {},
   "source": [
    "## Downweighted TF-IDF"
   ]
  },
  {
   "cell_type": "code",
   "execution_count": 320,
   "id": "b3b2d9c1",
   "metadata": {},
   "outputs": [],
   "source": [
    "#Scaling TF-IDF to 0.3 of its weight\n",
    "tfidf_matrix = tfidf_matrix * 0.2\n",
    "\n",
    "# Combine again\n",
    "combined_features = hstack([tfidf_matrix, csr_matrix(numerical_features)])\n",
    "similarity_matrix = cosine_similarity(combined_features)"
   ]
  },
  {
   "cell_type": "code",
   "execution_count": 321,
   "id": "e65d5f09",
   "metadata": {},
   "outputs": [
    {
     "name": "stdout",
     "output_type": "stream",
     "text": [
      "1566 Hercules (1997)\n",
      "      MovieID                          Title  Avg_Rating\n",
      "104       107  Muppet Treasure Island (1996)    0.537109\n",
      "965      1030           Pete's Dragon (1977)    0.519350\n",
      "574       588                 Aladdin (1992)    0.697076\n",
      "1897     2078        Jungle Book, The (1967)    0.704066\n",
      "1921     2102        Steamboat Willie (1940)    0.596447\n"
     ]
    }
   ],
   "source": [
    "random_id, random_name = get_random_movie(movie_features, movies_og)\n",
    "random_rec = recommend_movies(random_id, movie_features, similarity_matrix, movies_og, 5)\n",
    "\n",
    "print(random_id, random_name)\n",
    "print(random_rec)"
   ]
  },
  {
   "cell_type": "code",
   "execution_count": 322,
   "id": "ef156f6c",
   "metadata": {},
   "outputs": [
    {
     "data": {
      "text/plain": [
       "'\\n1320 Alien³ (1992)\\n      MovieID                       Title  Avg_Rating\\n2096     2288           Thing, The (1982)    0.696356\\n1124     1214                Alien (1979)    0.789896\\n1553     1690  Alien: Resurrection (1997)    0.489730\\n2621     2826    13th Warrior, The (1999)    0.539667\\n3455     3697           Predator 2 (1990)    0.466952\\n-----------------------------------------------------\\n2273 Rush Hour (1998)\\n      MovieID                              Title  Avg_Rating\\n1877     2058             Negotiator, The (1998)    0.652065\\n2296     2490                     Payback (1999)    0.626455\\n3043     3267                Mariachi, El (1992)    0.671843\\n159       165  Die Hard: With a Vengeance (1995)    0.640303\\n981      1047    Long Kiss Goodnight, The (1996)    0.620968\\n------------------------------------------------------------\\n177 Lord of Illusions (1995)\\n      MovieID                                      Title  Avg_Rating\\n3593     3838      Phantasm III: Lord of the Dead (1994)    0.404762\\n1819     1999                   Exorcist III, The (1990)    0.437008\\n2135     2328                            Vampires (1998)    0.462428\\n2134     2327  Tales from the Darkside: The Movie (1990)    0.462500\\n146       152                      Addiction, The (1995)    0.500000\\n----------------------------------------------------------------------------\\n2716 Ghostbusters (1984)\\n      MovieID                            Title  Avg_Rating\\n1186     1278        Young Frankenstein (1974)    0.812657\\n1823     2003                  Gremlins (1984)    0.567010\\n2512     2717           Ghostbusters II (1989)    0.476549\\n3040     3264  Buffy the Vampire Slayer (1992)    0.522949\\n3542     3785               Scary Movie (2000)    0.502855\\n'"
      ]
     },
     "execution_count": 322,
     "metadata": {},
     "output_type": "execute_result"
    }
   ],
   "source": [
    "# Outputs with downweighted (0.2) if-idf :o\n",
    "# I think it only got better becase the original movie item vector is doing the heavy lifting now.\n",
    "# Not really satisfied.\n",
    "'''\n",
    "1320 Alien³ (1992)\n",
    "      MovieID                       Title  Avg_Rating\n",
    "2096     2288           Thing, The (1982)    0.696356\n",
    "1124     1214                Alien (1979)    0.789896\n",
    "1553     1690  Alien: Resurrection (1997)    0.489730\n",
    "2621     2826    13th Warrior, The (1999)    0.539667\n",
    "3455     3697           Predator 2 (1990)    0.466952\n",
    "-----------------------------------------------------\n",
    "2273 Rush Hour (1998)\n",
    "      MovieID                              Title  Avg_Rating\n",
    "1877     2058             Negotiator, The (1998)    0.652065\n",
    "2296     2490                     Payback (1999)    0.626455\n",
    "3043     3267                Mariachi, El (1992)    0.671843\n",
    "159       165  Die Hard: With a Vengeance (1995)    0.640303\n",
    "981      1047    Long Kiss Goodnight, The (1996)    0.620968\n",
    "------------------------------------------------------------\n",
    "177 Lord of Illusions (1995)\n",
    "      MovieID                                      Title  Avg_Rating\n",
    "3593     3838      Phantasm III: Lord of the Dead (1994)    0.404762\n",
    "1819     1999                   Exorcist III, The (1990)    0.437008\n",
    "2135     2328                            Vampires (1998)    0.462428\n",
    "2134     2327  Tales from the Darkside: The Movie (1990)    0.462500\n",
    "146       152                      Addiction, The (1995)    0.500000\n",
    "----------------------------------------------------------------------------\n",
    "2716 Ghostbusters (1984)\n",
    "      MovieID                            Title  Avg_Rating\n",
    "1186     1278        Young Frankenstein (1974)    0.812657\n",
    "1823     2003                  Gremlins (1984)    0.567010\n",
    "2512     2717           Ghostbusters II (1989)    0.476549\n",
    "3040     3264  Buffy the Vampire Slayer (1992)    0.522949\n",
    "3542     3785               Scary Movie (2000)    0.502855\n",
    "'''"
   ]
  }
 ],
 "metadata": {
  "kernelspec": {
   "display_name": ".venv",
   "language": "python",
   "name": "python3"
  },
  "language_info": {
   "codemirror_mode": {
    "name": "ipython",
    "version": 3
   },
   "file_extension": ".py",
   "mimetype": "text/x-python",
   "name": "python",
   "nbconvert_exporter": "python",
   "pygments_lexer": "ipython3",
   "version": "3.12.4"
  }
 },
 "nbformat": 4,
 "nbformat_minor": 5
}
