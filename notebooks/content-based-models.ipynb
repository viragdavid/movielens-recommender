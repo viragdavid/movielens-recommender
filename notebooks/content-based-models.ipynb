{
 "cells": [
  {
   "cell_type": "markdown",
   "id": "bb18c3f0",
   "metadata": {},
   "source": [
    "# Content-Based Filtering Model"
   ]
  },
  {
   "cell_type": "code",
   "execution_count": 57,
   "id": "7b1d82cc",
   "metadata": {},
   "outputs": [
    {
     "name": "stdout",
     "output_type": "stream",
     "text": [
      "Requirement already satisfied: xgboost in c:\\egyetem\\github-ml\\movielens-recommender\\.venv\\lib\\site-packages (3.0.2)\n",
      "Requirement already satisfied: lightgbm in c:\\egyetem\\github-ml\\movielens-recommender\\.venv\\lib\\site-packages (4.6.0)\n",
      "Requirement already satisfied: catboost in c:\\egyetem\\github-ml\\movielens-recommender\\.venv\\lib\\site-packages (1.2.8)\n",
      "Requirement already satisfied: numpy in c:\\egyetem\\github-ml\\movielens-recommender\\.venv\\lib\\site-packages (from xgboost) (2.1.3)\n",
      "Requirement already satisfied: scipy in c:\\egyetem\\github-ml\\movielens-recommender\\.venv\\lib\\site-packages (from xgboost) (1.15.3)\n",
      "Requirement already satisfied: graphviz in c:\\egyetem\\github-ml\\movielens-recommender\\.venv\\lib\\site-packages (from catboost) (0.21)\n",
      "Requirement already satisfied: matplotlib in c:\\egyetem\\github-ml\\movielens-recommender\\.venv\\lib\\site-packages (from catboost) (3.10.0)\n",
      "Requirement already satisfied: pandas>=0.24 in c:\\egyetem\\github-ml\\movielens-recommender\\.venv\\lib\\site-packages (from catboost) (2.3.1)\n",
      "Requirement already satisfied: plotly in c:\\egyetem\\github-ml\\movielens-recommender\\.venv\\lib\\site-packages (from catboost) (6.2.0)\n",
      "Requirement already satisfied: six in c:\\egyetem\\github-ml\\movielens-recommender\\.venv\\lib\\site-packages (from catboost) (1.17.0)\n",
      "Requirement already satisfied: python-dateutil>=2.8.2 in c:\\egyetem\\github-ml\\movielens-recommender\\.venv\\lib\\site-packages (from pandas>=0.24->catboost) (2.9.0.post0)\n",
      "Requirement already satisfied: pytz>=2020.1 in c:\\egyetem\\github-ml\\movielens-recommender\\.venv\\lib\\site-packages (from pandas>=0.24->catboost) (2025.2)\n",
      "Requirement already satisfied: tzdata>=2022.7 in c:\\egyetem\\github-ml\\movielens-recommender\\.venv\\lib\\site-packages (from pandas>=0.24->catboost) (2025.2)\n",
      "Requirement already satisfied: contourpy>=1.0.1 in c:\\egyetem\\github-ml\\movielens-recommender\\.venv\\lib\\site-packages (from matplotlib->catboost) (1.3.2)\n",
      "Requirement already satisfied: cycler>=0.10 in c:\\egyetem\\github-ml\\movielens-recommender\\.venv\\lib\\site-packages (from matplotlib->catboost) (0.12.1)\n",
      "Requirement already satisfied: fonttools>=4.22.0 in c:\\egyetem\\github-ml\\movielens-recommender\\.venv\\lib\\site-packages (from matplotlib->catboost) (4.59.0)\n",
      "Requirement already satisfied: kiwisolver>=1.3.1 in c:\\egyetem\\github-ml\\movielens-recommender\\.venv\\lib\\site-packages (from matplotlib->catboost) (1.4.8)\n",
      "Requirement already satisfied: packaging>=20.0 in c:\\egyetem\\github-ml\\movielens-recommender\\.venv\\lib\\site-packages (from matplotlib->catboost) (25.0)\n",
      "Requirement already satisfied: pillow>=8 in c:\\egyetem\\github-ml\\movielens-recommender\\.venv\\lib\\site-packages (from matplotlib->catboost) (11.3.0)\n",
      "Requirement already satisfied: pyparsing>=2.3.1 in c:\\egyetem\\github-ml\\movielens-recommender\\.venv\\lib\\site-packages (from matplotlib->catboost) (3.2.3)\n",
      "Requirement already satisfied: narwhals>=1.15.1 in c:\\egyetem\\github-ml\\movielens-recommender\\.venv\\lib\\site-packages (from plotly->catboost) (1.48.0)\n",
      "Note: you may need to restart the kernel to use updated packages.\n"
     ]
    }
   ],
   "source": [
    "pip install xgboost lightgbm catboost"
   ]
  },
  {
   "cell_type": "code",
   "execution_count": 58,
   "id": "a8a6ad98",
   "metadata": {},
   "outputs": [],
   "source": [
    "import pandas as pd \n",
    "import numpy as np \n",
    "from sklearn.model_selection import train_test_split\n",
    "from sklearn.metrics import mean_squared_error\n",
    "from sklearn.model_selection import KFold\n",
    "from sklearn.model_selection import GroupKFold\n",
    "import xgboost as xgb\n",
    "import lightgbm as lgb\n",
    "from catboost import CatBoostRegressor, Pool"
   ]
  },
  {
   "cell_type": "code",
   "execution_count": 59,
   "id": "9ab872bb",
   "metadata": {},
   "outputs": [
    {
     "name": "stdout",
     "output_type": "stream",
     "text": [
      "   UserID  MovieID  Rating  Avg_Rating  Rating_Count    Decade  Genre_Mystery  \\\n",
      "0       1     1193       5    0.847681      0.503064  0.666667              0   \n",
      "1       1      661       3    0.616190      0.152903  0.888889              0   \n",
      "2       1      914       3    0.788522      0.185293  0.555556              0   \n",
      "3       1     3408       4    0.715970      0.383426  1.000000              0   \n",
      "4       1     2355       5    0.713594      0.496644  0.888889              0   \n",
      "\n",
      "   Genre_Thriller  Genre_Action  Genre_Western  ...  Genre_Animation  \\\n",
      "0               0             0              0  ...                0   \n",
      "1               0             0              0  ...                1   \n",
      "2               0             0              0  ...                0   \n",
      "3               0             0              0  ...                0   \n",
      "4               0             0              0  ...                1   \n",
      "\n",
      "   Genre_Horror  Genre_Fantasy  Genre_Romance  Genre_Documentary  \\\n",
      "0             0              0              0                  0   \n",
      "1             0              0              0                  0   \n",
      "2             0              0              1                  0   \n",
      "3             0              0              0                  0   \n",
      "4             0              0              0                  0   \n",
      "\n",
      "   Genre_Film-Noir  Genre_Adventure  Genre_Comedy  Genre_Crime  Genre_Sci-Fi  \n",
      "0                0                0             0            0             0  \n",
      "1                0                0             0            0             0  \n",
      "2                0                0             0            0             0  \n",
      "3                0                0             0            0             0  \n",
      "4                0                0             1            0             0  \n",
      "\n",
      "[5 rows x 24 columns]\n"
     ]
    }
   ],
   "source": [
    "content_df_path = '../data/prepared-data/content-based-features.csv'\n",
    "content_df = pd.read_csv(content_df_path)\n",
    "\n",
    "print(content_df.head())"
   ]
  },
  {
   "cell_type": "markdown",
   "id": "7a8fc1ec",
   "metadata": {},
   "source": [
    "## XGBoost, LightGBM and CatBoost (Train - Validation - Test Split)"
   ]
  },
  {
   "cell_type": "markdown",
   "id": "0c051590",
   "metadata": {},
   "source": [
    "All of them gave very similar and very good results. Around 0.975 all of them."
   ]
  },
  {
   "cell_type": "code",
   "execution_count": 60,
   "id": "45765c10",
   "metadata": {},
   "outputs": [
    {
     "name": "stdout",
     "output_type": "stream",
     "text": [
      "Index(['UserID', 'MovieID', 'Rating', 'Avg_Rating', 'Rating_Count', 'Decade',\n",
      "       'Genre_Mystery', 'Genre_Thriller', 'Genre_Action', 'Genre_Western',\n",
      "       'Genre_War', 'Genre_Musical', 'Genre_Children's', 'Genre_Drama',\n",
      "       'Genre_Animation', 'Genre_Horror', 'Genre_Fantasy', 'Genre_Romance',\n",
      "       'Genre_Documentary', 'Genre_Film-Noir', 'Genre_Adventure',\n",
      "       'Genre_Comedy', 'Genre_Crime', 'Genre_Sci-Fi'],\n",
      "      dtype='object')\n"
     ]
    }
   ],
   "source": [
    "print(content_df.columns)"
   ]
  },
  {
   "cell_type": "code",
   "execution_count": 61,
   "id": "5143d140",
   "metadata": {},
   "outputs": [],
   "source": [
    "# Datasets\n",
    "train_list = []\n",
    "val_list = []\n",
    "test_list = []\n",
    "\n",
    "for user_id, group in content_df.groupby('UserID'):\n",
    "    if len(group) >= 5:  # only split users with enough ratings\n",
    "        train, temp = train_test_split(group, test_size=0.4, random_state=42)\n",
    "        val, test = train_test_split(temp, test_size=0.5, random_state=42)\n",
    "    else:\n",
    "        # If too few ratings, keep them all in train\n",
    "        train = group\n",
    "        val = pd.DataFrame()\n",
    "        test = pd.DataFrame()\n",
    "    \n",
    "    train_list.append(train)\n",
    "    val_list.append(val)\n",
    "    test_list.append(test)\n",
    "\n",
    "train_df = pd.concat(train_list)\n",
    "val_df = pd.concat(val_list)\n",
    "test_df = pd.concat(test_list)\n",
    "\n",
    "# Rating will be the target\n",
    "# Dropping Rating, UserID and MovieID\n",
    "X_train = train_df.drop(columns=['Rating', 'UserID', 'MovieID']) \n",
    "y_train = train_df['Rating']\n",
    "\n",
    "X_val = val_df.drop(columns=['Rating', 'UserID', 'MovieID'])\n",
    "y_val = val_df['Rating']\n",
    "\n",
    "X_test = test_df.drop(columns=['Rating', 'UserID', 'MovieID'])\n",
    "y_test = test_df['Rating']\n"
   ]
  },
  {
   "cell_type": "code",
   "execution_count": 62,
   "id": "b71b4f92",
   "metadata": {},
   "outputs": [
    {
     "name": "stdout",
     "output_type": "stream",
     "text": [
      "Validation RMSE: 0.9758\n"
     ]
    }
   ],
   "source": [
    "#XGBoost\n",
    "\n",
    "xgb_model = xgb.XGBRegressor(n_estimators=100, learning_rate=0.1)\n",
    "xgb_model.fit(X_train, y_train)\n",
    "\n",
    "y_pred_val = xgb_model.predict(X_val)\n",
    "\n",
    "# Calculate MSE \n",
    "mse = mean_squared_error(y_val, y_pred_val)\n",
    "# Calculate RMSE\n",
    "rmse = mse ** 0.5  # Equivalent to sqrt(mse)\n",
    "print(f'Validation RMSE: {rmse:.4f}')\n"
   ]
  },
  {
   "cell_type": "code",
   "execution_count": 63,
   "id": "58ced866",
   "metadata": {},
   "outputs": [
    {
     "name": "stdout",
     "output_type": "stream",
     "text": [
      "Test RMSE: 0.9753\n"
     ]
    }
   ],
   "source": [
    "y_pred_test = xgb_model.predict(X_test)\n",
    "test_mse = mean_squared_error(y_test, y_pred_test)\n",
    "test_rmse = test_mse ** 0.5\n",
    "print(f'Test RMSE: {test_rmse:.4f}')\n"
   ]
  },
  {
   "cell_type": "code",
   "execution_count": 64,
   "id": "9c5d761d",
   "metadata": {},
   "outputs": [],
   "source": [
    "#LightGBM\n",
    "\n",
    "# Create dataset\n",
    "train_data = lgb.Dataset(X_train, label=y_train)\n",
    "val_data = lgb.Dataset(X_val, label=y_val)\n",
    "\n",
    "# Train\n",
    "lgb_model = lgb.train(\n",
    "    {\n",
    "        \"objective\": \"regression\",\n",
    "        \"metric\": \"rmse\",\n",
    "        \"verbosity\": -1,\n",
    "        \"early_stopping_rounds\": 20\n",
    "    },\n",
    "    train_data,\n",
    "    valid_sets=[val_data],\n",
    "    num_boost_round=1000\n",
    ")\n",
    "\n",
    "# Predict\n",
    "y_pred = lgb_model.predict(X_test)\n"
   ]
  },
  {
   "cell_type": "code",
   "execution_count": 65,
   "id": "88b91202",
   "metadata": {},
   "outputs": [
    {
     "name": "stdout",
     "output_type": "stream",
     "text": [
      "Test RMSE: 0.9746\n"
     ]
    }
   ],
   "source": [
    "rmse = np.sqrt(mean_squared_error(y_test, y_pred))\n",
    "print(f\"Test RMSE: {rmse:.4f}\")"
   ]
  },
  {
   "cell_type": "code",
   "execution_count": 66,
   "id": "74a162ee",
   "metadata": {},
   "outputs": [
    {
     "data": {
      "text/plain": [
       "Index(['Avg_Rating', 'Rating_Count', 'Decade', 'Genre_Mystery',\n",
       "       'Genre_Thriller', 'Genre_Action', 'Genre_Western', 'Genre_War',\n",
       "       'Genre_Musical', 'Genre_Children's', 'Genre_Drama', 'Genre_Animation',\n",
       "       'Genre_Horror', 'Genre_Fantasy', 'Genre_Romance', 'Genre_Documentary',\n",
       "       'Genre_Film-Noir', 'Genre_Adventure', 'Genre_Comedy', 'Genre_Crime',\n",
       "       'Genre_Sci-Fi'],\n",
       "      dtype='object')"
      ]
     },
     "execution_count": 66,
     "metadata": {},
     "output_type": "execute_result"
    }
   ],
   "source": [
    "X_train.columns"
   ]
  },
  {
   "cell_type": "code",
   "execution_count": 67,
   "id": "85a6bac6",
   "metadata": {},
   "outputs": [
    {
     "name": "stdout",
     "output_type": "stream",
     "text": [
      "0:\tlearn: 1.0924461\ttest: 1.0940082\tbest: 1.0940082 (0)\ttotal: 40.4ms\tremaining: 40.3s\n",
      "Stopped by overfitting detector  (20 iterations wait)\n",
      "\n",
      "bestTest = 0.9747512833\n",
      "bestIteration = 59\n",
      "\n",
      "Shrink model to first 60 iterations.\n"
     ]
    }
   ],
   "source": [
    "# CatBoost\n",
    "\n",
    "# Categorical features\n",
    "cat_features = [3, 4, 5, 6, 7, 8, 9, 10, 11, 12, 13, 14, 15, 16, 17, 18, 19, 20] \n",
    "\n",
    "cat_model = CatBoostRegressor(\n",
    "    iterations=1000,\n",
    "    learning_rate=0.1,\n",
    "    depth=6,\n",
    "    eval_metric=\"RMSE\",\n",
    "    early_stopping_rounds=20,\n",
    "    verbose=100\n",
    ")\n",
    "\n",
    "cat_model.fit(\n",
    "    X_train, y_train,\n",
    "    eval_set=(X_val, y_val),\n",
    "    cat_features=cat_features\n",
    ")\n",
    "\n",
    "# Predict\n",
    "y_pred = cat_model.predict(X_test)\n"
   ]
  },
  {
   "cell_type": "code",
   "execution_count": 68,
   "id": "7477b418",
   "metadata": {},
   "outputs": [
    {
     "name": "stdout",
     "output_type": "stream",
     "text": [
      "Test RMSE: 0.9743\n"
     ]
    }
   ],
   "source": [
    "rmse = np.sqrt(mean_squared_error(y_test, y_pred))\n",
    "print(f\"Test RMSE: {rmse:.4f}\")"
   ]
  },
  {
   "cell_type": "markdown",
   "id": "89f0d716",
   "metadata": {},
   "source": [
    "## XGBoost, LightGBM and CatBoost (K-Fold Cross-Validation)"
   ]
  },
  {
   "cell_type": "markdown",
   "id": "ec062bb0",
   "metadata": {},
   "source": [
    "These ones also gave similarly great results as before but XGBoost K-Fold Cross-Validation gave the best results from the bunch at 0.9789."
   ]
  },
  {
   "cell_type": "code",
   "execution_count": 69,
   "id": "8b8e9afb",
   "metadata": {},
   "outputs": [],
   "source": [
    "X = content_df.drop(columns=['Rating', 'UserID', 'MovieID'])\n",
    "y = content_df['Rating']"
   ]
  },
  {
   "cell_type": "code",
   "execution_count": 70,
   "id": "41236519",
   "metadata": {},
   "outputs": [
    {
     "name": "stdout",
     "output_type": "stream",
     "text": [
      "\n",
      "Fold 1\n"
     ]
    },
    {
     "name": "stderr",
     "output_type": "stream",
     "text": [
      "c:\\egyetem\\github-ml\\movielens-recommender\\.venv\\Lib\\site-packages\\xgboost\\training.py:183: UserWarning: [22:13:15] WARNING: C:\\actions-runner\\_work\\xgboost\\xgboost\\src\\learner.cc:738: \n",
      "Parameters: { \"early_stopping_rounds\" } are not used.\n",
      "\n",
      "  bst.update(dtrain, iteration=i, fobj=obj)\n"
     ]
    },
    {
     "name": "stdout",
     "output_type": "stream",
     "text": [
      "[0]\tvalidation-rmse:1.05001\n",
      "[100]\tvalidation-rmse:0.98017\n",
      "[200]\tvalidation-rmse:0.98098\n",
      "[300]\tvalidation-rmse:0.98140\n",
      "[400]\tvalidation-rmse:0.98160\n",
      "[500]\tvalidation-rmse:0.98173\n",
      "[600]\tvalidation-rmse:0.98179\n",
      "[700]\tvalidation-rmse:0.98184\n",
      "[800]\tvalidation-rmse:0.98186\n",
      "[900]\tvalidation-rmse:0.98188\n",
      "[999]\tvalidation-rmse:0.98188\n",
      "Validation RMSE: 0.9819\n",
      "Sample predictions: [4.386253  4.235983  3.9535725 3.9476895 3.7131262] vs actual [5 5 4 5 4]\n",
      "\n",
      "Fold 2\n"
     ]
    },
    {
     "name": "stderr",
     "output_type": "stream",
     "text": [
      "c:\\egyetem\\github-ml\\movielens-recommender\\.venv\\Lib\\site-packages\\xgboost\\training.py:183: UserWarning: [22:13:41] WARNING: C:\\actions-runner\\_work\\xgboost\\xgboost\\src\\learner.cc:738: \n",
      "Parameters: { \"early_stopping_rounds\" } are not used.\n",
      "\n",
      "  bst.update(dtrain, iteration=i, fobj=obj)\n"
     ]
    },
    {
     "name": "stdout",
     "output_type": "stream",
     "text": [
      "[0]\tvalidation-rmse:1.04492\n",
      "[100]\tvalidation-rmse:0.97473\n",
      "[200]\tvalidation-rmse:0.97566\n",
      "[300]\tvalidation-rmse:0.97608\n",
      "[400]\tvalidation-rmse:0.97632\n",
      "[500]\tvalidation-rmse:0.97646\n",
      "[600]\tvalidation-rmse:0.97655\n",
      "[700]\tvalidation-rmse:0.97660\n",
      "[800]\tvalidation-rmse:0.97664\n",
      "[900]\tvalidation-rmse:0.97666\n",
      "[999]\tvalidation-rmse:0.97666\n",
      "Validation RMSE: 0.9767\n",
      "Sample predictions: [4.1125    4.2315583 3.8936195 3.2649279 3.265034 ] vs actual [5 4 5 3 4]\n",
      "\n",
      "Fold 3\n"
     ]
    },
    {
     "name": "stderr",
     "output_type": "stream",
     "text": [
      "c:\\egyetem\\github-ml\\movielens-recommender\\.venv\\Lib\\site-packages\\xgboost\\training.py:183: UserWarning: [22:14:09] WARNING: C:\\actions-runner\\_work\\xgboost\\xgboost\\src\\learner.cc:738: \n",
      "Parameters: { \"early_stopping_rounds\" } are not used.\n",
      "\n",
      "  bst.update(dtrain, iteration=i, fobj=obj)\n"
     ]
    },
    {
     "name": "stdout",
     "output_type": "stream",
     "text": [
      "[0]\tvalidation-rmse:1.04586\n",
      "[100]\tvalidation-rmse:0.97509\n",
      "[200]\tvalidation-rmse:0.97593\n",
      "[300]\tvalidation-rmse:0.97635\n",
      "[400]\tvalidation-rmse:0.97659\n",
      "[500]\tvalidation-rmse:0.97673\n",
      "[600]\tvalidation-rmse:0.97681\n",
      "[700]\tvalidation-rmse:0.97686\n",
      "[800]\tvalidation-rmse:0.97689\n",
      "[900]\tvalidation-rmse:0.97691\n",
      "[999]\tvalidation-rmse:0.97691\n",
      "Validation RMSE: 0.9769\n",
      "Sample predictions: [4.170225  3.6548083 3.9719706 4.5190063 3.459523 ] vs actual [3 4 4 3 4]\n",
      "\n",
      "Fold 4\n"
     ]
    },
    {
     "name": "stderr",
     "output_type": "stream",
     "text": [
      "c:\\egyetem\\github-ml\\movielens-recommender\\.venv\\Lib\\site-packages\\xgboost\\training.py:183: UserWarning: [22:14:38] WARNING: C:\\actions-runner\\_work\\xgboost\\xgboost\\src\\learner.cc:738: \n",
      "Parameters: { \"early_stopping_rounds\" } are not used.\n",
      "\n",
      "  bst.update(dtrain, iteration=i, fobj=obj)\n"
     ]
    },
    {
     "name": "stdout",
     "output_type": "stream",
     "text": [
      "[0]\tvalidation-rmse:1.04784\n",
      "[100]\tvalidation-rmse:0.97739\n",
      "[200]\tvalidation-rmse:0.97829\n",
      "[300]\tvalidation-rmse:0.97871\n",
      "[400]\tvalidation-rmse:0.97894\n",
      "[500]\tvalidation-rmse:0.97907\n",
      "[600]\tvalidation-rmse:0.97914\n",
      "[700]\tvalidation-rmse:0.97919\n",
      "[800]\tvalidation-rmse:0.97922\n",
      "[900]\tvalidation-rmse:0.97923\n",
      "[999]\tvalidation-rmse:0.97923\n",
      "Validation RMSE: 0.9792\n",
      "Sample predictions: [3.4529464 3.8469877 3.6798549 3.8659863 3.9875278] vs actual [3 5 3 4 5]\n",
      "\n",
      "Fold 5\n"
     ]
    },
    {
     "name": "stderr",
     "output_type": "stream",
     "text": [
      "c:\\egyetem\\github-ml\\movielens-recommender\\.venv\\Lib\\site-packages\\xgboost\\training.py:183: UserWarning: [22:15:06] WARNING: C:\\actions-runner\\_work\\xgboost\\xgboost\\src\\learner.cc:738: \n",
      "Parameters: { \"early_stopping_rounds\" } are not used.\n",
      "\n",
      "  bst.update(dtrain, iteration=i, fobj=obj)\n"
     ]
    },
    {
     "name": "stdout",
     "output_type": "stream",
     "text": [
      "[0]\tvalidation-rmse:1.04654\n",
      "[100]\tvalidation-rmse:0.97781\n",
      "[200]\tvalidation-rmse:0.97868\n",
      "[300]\tvalidation-rmse:0.97913\n",
      "[400]\tvalidation-rmse:0.97934\n",
      "[500]\tvalidation-rmse:0.97946\n",
      "[600]\tvalidation-rmse:0.97953\n",
      "[700]\tvalidation-rmse:0.97959\n",
      "[800]\tvalidation-rmse:0.97962\n",
      "[900]\tvalidation-rmse:0.97964\n",
      "[999]\tvalidation-rmse:0.97964\n",
      "Validation RMSE: 0.9796\n",
      "Sample predictions: [3.878255  4.3162627 3.8641188 4.1130733 3.9926395] vs actual [4 3 4 4 4]\n",
      "\n",
      "Average RMSE across the folds: 0.9789\n"
     ]
    }
   ],
   "source": [
    "#XGBoost\n",
    "# Initialize KFold\n",
    "k = 5\n",
    "kf = KFold(n_splits=k, shuffle=True, random_state=42)\n",
    "\n",
    "sum = 0\n",
    "for fold, (train_idx, val_idx) in enumerate(kf.split(X)):\n",
    "    print(f\"\\nFold {fold + 1}\")\n",
    "    \n",
    "    # Split data\n",
    "    X_train, X_val = X.iloc[train_idx], X.iloc[val_idx]\n",
    "    y_train, y_val = y.iloc[train_idx], y.iloc[val_idx]\n",
    "    \n",
    "    # Create DMatrix (XGBoost's optimized data structure)\n",
    "    dtrain = xgb.DMatrix(X_train, label=y_train)\n",
    "    dval = xgb.DMatrix(X_val, label=y_val)\n",
    "    \n",
    "    # Train model\n",
    "    params = {\n",
    "        \"objective\": \"reg:squarederror\",\n",
    "        \"eval_metric\": \"rmse\",\n",
    "        \"early_stopping_rounds\": 20,\n",
    "        \"verbosity\": 1\n",
    "    }\n",
    "    xgb_model = xgb.train(\n",
    "        params,\n",
    "        dtrain,\n",
    "        num_boost_round=1000,\n",
    "        evals=[(dval, \"validation\")],\n",
    "        verbose_eval=100\n",
    "    )\n",
    "    \n",
    "    # Evaluate\n",
    "    val_pred = xgb_model.predict(dval)\n",
    "    rmse = np.sqrt(mean_squared_error(y_val, val_pred))\n",
    "    print(f\"Validation RMSE: {rmse:.4f}\")\n",
    "    print(f\"Sample predictions: {val_pred[:5]} vs actual {y_val.values[:5]}\")\n",
    "    sum = sum + rmse\n",
    "\n",
    "print(f\"\\nAverage RMSE across the folds: {(sum / 5):.4f}\")"
   ]
  },
  {
   "cell_type": "code",
   "execution_count": 71,
   "id": "79b31fec",
   "metadata": {},
   "outputs": [
    {
     "name": "stdout",
     "output_type": "stream",
     "text": [
      "\n",
      "Fold 1\n",
      "Validation RMSE: 0.9783\n",
      "Sample predictions: [4.3745711  4.22033207 3.95634153 3.93095756 3.7355865 ] vs actual [5 5 4 5 4]\n",
      "\n",
      "Fold 2\n",
      "Validation RMSE: 0.9728\n",
      "Sample predictions: [4.10437926 4.23084931 3.87303459 3.2480329  3.27614592] vs actual [5 4 5 3 4]\n",
      "\n",
      "Fold 3\n",
      "Validation RMSE: 0.9733\n",
      "Sample predictions: [4.14289689 3.62537978 3.96033353 4.49715742 3.48280563] vs actual [3 4 4 3 4]\n",
      "\n",
      "Fold 4\n",
      "Validation RMSE: 0.9755\n",
      "Sample predictions: [3.47216258 3.83796219 3.66812804 3.85326313 3.98113498] vs actual [3 5 3 4 5]\n",
      "\n",
      "Fold 5\n",
      "Validation RMSE: 0.9759\n",
      "Sample predictions: [3.86091149 4.29847422 3.83605812 4.11040277 3.96719181] vs actual [4 3 4 4 4]\n",
      "\n",
      "Average RMSE across the folds: 0.9752\n"
     ]
    }
   ],
   "source": [
    "# Initialize KFold\n",
    "k = 5\n",
    "kf = KFold(n_splits=k, shuffle=True, random_state=42)\n",
    "\n",
    "sum = 0\n",
    "# Iterate through folds\n",
    "for fold, (train_idx, val_idx) in enumerate(kf.split(X)):\n",
    "    print(f\"\\nFold {fold + 1}\")\n",
    "    \n",
    "    # Split data\n",
    "    X_train, X_val = X.iloc[train_idx], X.iloc[val_idx]\n",
    "    y_train, y_val = y.iloc[train_idx], y.iloc[val_idx]\n",
    "    \n",
    "    # Create LightGBM datasets\n",
    "    train_data = lgb.Dataset(X_train, label=y_train)\n",
    "    val_data = lgb.Dataset(X_val, label=y_val)\n",
    "    \n",
    "    # Train model (using train(), not fit())\n",
    "    lgb_model = lgb.train(\n",
    "        params={\n",
    "            \"objective\": \"regression\",\n",
    "            \"metric\": \"rmse\",\n",
    "            \"verbosity\": -1,\n",
    "            \"early_stopping_rounds\" : 20,\n",
    "            \"verbose_eval\" : 100\n",
    "        },\n",
    "        train_set=train_data,\n",
    "        valid_sets=[val_data],\n",
    "        num_boost_round=1000\n",
    "    )\n",
    "    \n",
    "    # Evaluate\n",
    "    val_pred = lgb_model.predict(X_val)\n",
    "    rmse = np.sqrt(mean_squared_error(y_val, val_pred))\n",
    "    print(f\"Validation RMSE: {rmse:.4f}\")\n",
    "    print(f\"Sample predictions: {val_pred[:5]} vs actual {y_val.values[:5]}\")\n",
    "    sum = sum + rmse\n",
    "\n",
    "print(f\"\\nAverage RMSE across the folds: {(sum / 5):.4f}\")"
   ]
  },
  {
   "cell_type": "code",
   "execution_count": 72,
   "id": "ccee3ed5",
   "metadata": {},
   "outputs": [
    {
     "name": "stdout",
     "output_type": "stream",
     "text": [
      "\n",
      "Fold 1\n",
      "0:\tlearn: 1.0919708\ttest: 1.0953487\tbest: 1.0953487 (0)\ttotal: 65.3ms\tremaining: 1m 5s\n",
      "Stopped by overfitting detector  (20 iterations wait)\n",
      "\n",
      "bestTest = 0.9780945476\n",
      "bestIteration = 61\n",
      "\n",
      "Shrink model to first 62 iterations.\n",
      "Validation RMSE: 0.9781\n",
      "Sample predictions: [4.38892676 4.21589141 3.96471983 3.9612391  3.72608709] vs actual [5 5 4 5 4]\n",
      "\n",
      "Fold 2\n",
      "0:\tlearn: 1.0932162\ttest: 1.0906041\tbest: 1.0906041 (0)\ttotal: 64ms\tremaining: 1m 3s\n",
      "Stopped by overfitting detector  (20 iterations wait)\n",
      "\n",
      "bestTest = 0.9725355933\n",
      "bestIteration = 64\n",
      "\n",
      "Shrink model to first 65 iterations.\n",
      "Validation RMSE: 0.9725\n",
      "Sample predictions: [4.12009994 4.24968673 3.8739992  3.23261747 3.30318346] vs actual [5 4 5 3 4]\n",
      "\n",
      "Fold 3\n",
      "0:\tlearn: 1.0928871\ttest: 1.0916627\tbest: 1.0916627 (0)\ttotal: 65.5ms\tremaining: 1m 5s\n",
      "Stopped by overfitting detector  (20 iterations wait)\n",
      "\n",
      "bestTest = 0.9730624353\n",
      "bestIteration = 55\n",
      "\n",
      "Shrink model to first 56 iterations.\n",
      "Validation RMSE: 0.9731\n",
      "Sample predictions: [4.15417248 3.63116564 3.96307355 4.49032093 3.48186676] vs actual [3 4 4 3 4]\n",
      "\n",
      "Fold 4\n",
      "0:\tlearn: 1.0924166\ttest: 1.0935846\tbest: 1.0935846 (0)\ttotal: 73.2ms\tremaining: 1m 13s\n",
      "Stopped by overfitting detector  (20 iterations wait)\n",
      "\n",
      "bestTest = 0.9752850695\n",
      "bestIteration = 63\n",
      "\n",
      "Shrink model to first 64 iterations.\n",
      "Validation RMSE: 0.9753\n",
      "Sample predictions: [3.46520214 3.84839064 3.6687528  3.85045563 4.00162048] vs actual [3 5 3 4 5]\n",
      "\n",
      "Fold 5\n",
      "0:\tlearn: 1.0926834\ttest: 1.0920248\tbest: 1.0920248 (0)\ttotal: 67.4ms\tremaining: 1m 7s\n",
      "Stopped by overfitting detector  (20 iterations wait)\n",
      "\n",
      "bestTest = 0.9757195857\n",
      "bestIteration = 43\n",
      "\n",
      "Shrink model to first 44 iterations.\n",
      "Validation RMSE: 0.9757\n",
      "Sample predictions: [3.85894615 4.29669826 3.8289158  4.12096551 3.95141709] vs actual [4 3 4 4 4]\n",
      "\n",
      "Average RMSE across the folds: 0.9749\n"
     ]
    }
   ],
   "source": [
    "#CatBoost\n",
    "#Categorical features\n",
    "cat_features = [3, 4, 5, 6, 7, 8, 9, 10, 11, 12, 13, 14, 15, 16, 17, 18, 19, 20] \n",
    "\n",
    "# Initialize KFold\n",
    "k = 5\n",
    "kf = KFold(n_splits=k, shuffle=True, random_state=42)\n",
    "\n",
    "sum = 0\n",
    "for fold, (train_idx, val_idx) in enumerate(kf.split(X)):\n",
    "    print(f\"\\nFold {fold + 1}\")\n",
    "    \n",
    "    # Split data\n",
    "    X_train, X_val = X.iloc[train_idx], X.iloc[val_idx]\n",
    "    y_train, y_val = y.iloc[train_idx], y.iloc[val_idx]\n",
    "    \n",
    "    # Create Pool (CatBoost's data structure)\n",
    "    train_pool = Pool(X_train, y_train, cat_features=cat_features)\n",
    "    val_pool = Pool(X_val, y_val, cat_features=cat_features)\n",
    "    \n",
    "    # Train model\n",
    "    cat_model = CatBoostRegressor(\n",
    "        iterations=1000,\n",
    "        learning_rate=0.1,\n",
    "        loss_function='RMSE',\n",
    "        early_stopping_rounds=20,\n",
    "        verbose=100\n",
    "    )\n",
    "    cat_model.fit(\n",
    "        train_pool,\n",
    "        eval_set=val_pool,\n",
    "        use_best_model=True\n",
    "    )\n",
    "    \n",
    "    # Evaluate\n",
    "    val_pred = cat_model.predict(X_val)\n",
    "    rmse = np.sqrt(mean_squared_error(y_val, val_pred))\n",
    "    print(f\"Validation RMSE: {rmse:.4f}\")\n",
    "    print(f\"Sample predictions: {val_pred[:5]} vs actual {y_val.values[:5]}\")\n",
    "    sum = sum + rmse\n",
    "\n",
    "print(f\"\\nAverage RMSE across the folds: {(sum / 5):.4f}\")"
   ]
  }
 ],
 "metadata": {
  "kernelspec": {
   "display_name": ".venv",
   "language": "python",
   "name": "python3"
  },
  "language_info": {
   "codemirror_mode": {
    "name": "ipython",
    "version": 3
   },
   "file_extension": ".py",
   "mimetype": "text/x-python",
   "name": "python",
   "nbconvert_exporter": "python",
   "pygments_lexer": "ipython3",
   "version": "3.12.4"
  }
 },
 "nbformat": 4,
 "nbformat_minor": 5
}
